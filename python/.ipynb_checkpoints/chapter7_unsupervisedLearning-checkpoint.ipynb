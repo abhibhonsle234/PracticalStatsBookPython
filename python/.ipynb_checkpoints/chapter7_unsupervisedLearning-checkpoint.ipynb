{
 "cells": [
  {
   "cell_type": "code",
   "execution_count": 15,
   "metadata": {},
   "outputs": [],
   "source": [
    "import pandas as pd\n",
    "import numpy as np\n",
    "import matplotlib.pyplot as plt"
   ]
  },
  {
   "cell_type": "code",
   "execution_count": 36,
   "metadata": {},
   "outputs": [
    {
     "data": {
      "text/html": [
       "<div>\n",
       "<style scoped>\n",
       "    .dataframe tbody tr th:only-of-type {\n",
       "        vertical-align: middle;\n",
       "    }\n",
       "\n",
       "    .dataframe tbody tr th {\n",
       "        vertical-align: top;\n",
       "    }\n",
       "\n",
       "    .dataframe thead th {\n",
       "        text-align: right;\n",
       "    }\n",
       "</style>\n",
       "<table border=\"1\" class=\"dataframe\">\n",
       "  <thead>\n",
       "    <tr style=\"text-align: right;\">\n",
       "      <th></th>\n",
       "      <th>ADS</th>\n",
       "      <th>CA</th>\n",
       "      <th>MSFT</th>\n",
       "      <th>RHT</th>\n",
       "      <th>CTSH</th>\n",
       "      <th>CSC</th>\n",
       "      <th>EMC</th>\n",
       "      <th>IBM</th>\n",
       "      <th>XRX</th>\n",
       "      <th>ALTR</th>\n",
       "      <th>...</th>\n",
       "      <th>WAT</th>\n",
       "      <th>ALXN</th>\n",
       "      <th>AMGN</th>\n",
       "      <th>BXLT</th>\n",
       "      <th>BIIB</th>\n",
       "      <th>CELG</th>\n",
       "      <th>GILD</th>\n",
       "      <th>REGN</th>\n",
       "      <th>VRTX</th>\n",
       "      <th>HSIC</th>\n",
       "    </tr>\n",
       "  </thead>\n",
       "  <tbody>\n",
       "    <tr>\n",
       "      <th>1993-01-29</th>\n",
       "      <td>0.0</td>\n",
       "      <td>0.060124</td>\n",
       "      <td>-0.022100</td>\n",
       "      <td>0.0</td>\n",
       "      <td>0.0</td>\n",
       "      <td>0.018897</td>\n",
       "      <td>0.007368</td>\n",
       "      <td>0.092165</td>\n",
       "      <td>0.259140</td>\n",
       "      <td>-0.007105</td>\n",
       "      <td>...</td>\n",
       "      <td>0.0</td>\n",
       "      <td>0.0</td>\n",
       "      <td>0.34716</td>\n",
       "      <td>0.0</td>\n",
       "      <td>0.04167</td>\n",
       "      <td>0.00000</td>\n",
       "      <td>0.015564</td>\n",
       "      <td>1.75</td>\n",
       "      <td>0.1250</td>\n",
       "      <td>0.0</td>\n",
       "    </tr>\n",
       "    <tr>\n",
       "      <th>1993-02-01</th>\n",
       "      <td>0.0</td>\n",
       "      <td>-0.180389</td>\n",
       "      <td>0.027621</td>\n",
       "      <td>0.0</td>\n",
       "      <td>0.0</td>\n",
       "      <td>0.018889</td>\n",
       "      <td>0.018425</td>\n",
       "      <td>0.115207</td>\n",
       "      <td>-0.100775</td>\n",
       "      <td>0.063893</td>\n",
       "      <td>...</td>\n",
       "      <td>0.0</td>\n",
       "      <td>0.0</td>\n",
       "      <td>-0.23144</td>\n",
       "      <td>0.0</td>\n",
       "      <td>0.00000</td>\n",
       "      <td>-0.01041</td>\n",
       "      <td>0.007782</td>\n",
       "      <td>1.25</td>\n",
       "      <td>0.1250</td>\n",
       "      <td>0.0</td>\n",
       "    </tr>\n",
       "    <tr>\n",
       "      <th>1993-02-02</th>\n",
       "      <td>0.0</td>\n",
       "      <td>-0.120257</td>\n",
       "      <td>0.035900</td>\n",
       "      <td>0.0</td>\n",
       "      <td>0.0</td>\n",
       "      <td>-0.075573</td>\n",
       "      <td>0.029482</td>\n",
       "      <td>-0.023041</td>\n",
       "      <td>0.028796</td>\n",
       "      <td>-0.014192</td>\n",
       "      <td>...</td>\n",
       "      <td>0.0</td>\n",
       "      <td>0.0</td>\n",
       "      <td>-0.11572</td>\n",
       "      <td>0.0</td>\n",
       "      <td>0.00000</td>\n",
       "      <td>0.00000</td>\n",
       "      <td>-0.007792</td>\n",
       "      <td>-0.25</td>\n",
       "      <td>0.0000</td>\n",
       "      <td>0.0</td>\n",
       "    </tr>\n",
       "    <tr>\n",
       "      <th>1993-02-03</th>\n",
       "      <td>0.0</td>\n",
       "      <td>0.060124</td>\n",
       "      <td>-0.024857</td>\n",
       "      <td>0.0</td>\n",
       "      <td>0.0</td>\n",
       "      <td>-0.151128</td>\n",
       "      <td>0.003689</td>\n",
       "      <td>-0.253454</td>\n",
       "      <td>-0.043190</td>\n",
       "      <td>-0.007105</td>\n",
       "      <td>...</td>\n",
       "      <td>0.0</td>\n",
       "      <td>0.0</td>\n",
       "      <td>-0.08679</td>\n",
       "      <td>0.0</td>\n",
       "      <td>0.04167</td>\n",
       "      <td>-0.04167</td>\n",
       "      <td>-0.038919</td>\n",
       "      <td>-0.50</td>\n",
       "      <td>0.0625</td>\n",
       "      <td>0.0</td>\n",
       "    </tr>\n",
       "    <tr>\n",
       "      <th>1993-02-04</th>\n",
       "      <td>0.0</td>\n",
       "      <td>-0.360770</td>\n",
       "      <td>-0.060757</td>\n",
       "      <td>0.0</td>\n",
       "      <td>0.0</td>\n",
       "      <td>0.113350</td>\n",
       "      <td>-0.022114</td>\n",
       "      <td>0.069862</td>\n",
       "      <td>0.000000</td>\n",
       "      <td>-0.007096</td>\n",
       "      <td>...</td>\n",
       "      <td>0.0</td>\n",
       "      <td>0.0</td>\n",
       "      <td>0.14465</td>\n",
       "      <td>0.0</td>\n",
       "      <td>-0.04166</td>\n",
       "      <td>-0.03126</td>\n",
       "      <td>-0.046711</td>\n",
       "      <td>0.00</td>\n",
       "      <td>0.0625</td>\n",
       "      <td>0.0</td>\n",
       "    </tr>\n",
       "  </tbody>\n",
       "</table>\n",
       "<p>5 rows × 517 columns</p>\n",
       "</div>"
      ],
      "text/plain": [
       "            ADS        CA      MSFT  RHT  CTSH       CSC       EMC       IBM  \\\n",
       "1993-01-29  0.0  0.060124 -0.022100  0.0   0.0  0.018897  0.007368  0.092165   \n",
       "1993-02-01  0.0 -0.180389  0.027621  0.0   0.0  0.018889  0.018425  0.115207   \n",
       "1993-02-02  0.0 -0.120257  0.035900  0.0   0.0 -0.075573  0.029482 -0.023041   \n",
       "1993-02-03  0.0  0.060124 -0.024857  0.0   0.0 -0.151128  0.003689 -0.253454   \n",
       "1993-02-04  0.0 -0.360770 -0.060757  0.0   0.0  0.113350 -0.022114  0.069862   \n",
       "\n",
       "                 XRX      ALTR  ...  WAT  ALXN     AMGN  BXLT     BIIB  \\\n",
       "1993-01-29  0.259140 -0.007105  ...  0.0   0.0  0.34716   0.0  0.04167   \n",
       "1993-02-01 -0.100775  0.063893  ...  0.0   0.0 -0.23144   0.0  0.00000   \n",
       "1993-02-02  0.028796 -0.014192  ...  0.0   0.0 -0.11572   0.0  0.00000   \n",
       "1993-02-03 -0.043190 -0.007105  ...  0.0   0.0 -0.08679   0.0  0.04167   \n",
       "1993-02-04  0.000000 -0.007096  ...  0.0   0.0  0.14465   0.0 -0.04166   \n",
       "\n",
       "               CELG      GILD  REGN    VRTX  HSIC  \n",
       "1993-01-29  0.00000  0.015564  1.75  0.1250   0.0  \n",
       "1993-02-01 -0.01041  0.007782  1.25  0.1250   0.0  \n",
       "1993-02-02  0.00000 -0.007792 -0.25  0.0000   0.0  \n",
       "1993-02-03 -0.04167 -0.038919 -0.50  0.0625   0.0  \n",
       "1993-02-04 -0.03126 -0.046711  0.00  0.0625   0.0  \n",
       "\n",
       "[5 rows x 517 columns]"
      ]
     },
     "execution_count": 36,
     "metadata": {},
     "output_type": "execute_result"
    }
   ],
   "source": [
    "df_sp500_data = pd.read_csv(\"sp500_data.csv\", index_col=0, parse_dates=True)\n",
    "df_sp500_data.head()"
   ]
  },
  {
   "cell_type": "code",
   "execution_count": null,
   "metadata": {},
   "outputs": [],
   "source": []
  },
  {
   "cell_type": "code",
   "execution_count": 37,
   "metadata": {},
   "outputs": [
    {
     "data": {
      "text/html": [
       "<div>\n",
       "<style scoped>\n",
       "    .dataframe tbody tr th:only-of-type {\n",
       "        vertical-align: middle;\n",
       "    }\n",
       "\n",
       "    .dataframe tbody tr th {\n",
       "        vertical-align: top;\n",
       "    }\n",
       "\n",
       "    .dataframe thead th {\n",
       "        text-align: right;\n",
       "    }\n",
       "</style>\n",
       "<table border=\"1\" class=\"dataframe\">\n",
       "  <thead>\n",
       "    <tr style=\"text-align: right;\">\n",
       "      <th></th>\n",
       "      <th>CVX</th>\n",
       "      <th>XOM</th>\n",
       "    </tr>\n",
       "  </thead>\n",
       "  <tbody>\n",
       "    <tr>\n",
       "      <th>1993-01-29</th>\n",
       "      <td>0.072921</td>\n",
       "      <td>-0.016991</td>\n",
       "    </tr>\n",
       "    <tr>\n",
       "      <th>1993-02-01</th>\n",
       "      <td>0.102089</td>\n",
       "      <td>0.016991</td>\n",
       "    </tr>\n",
       "    <tr>\n",
       "      <th>1993-02-02</th>\n",
       "      <td>0.029168</td>\n",
       "      <td>0.084954</td>\n",
       "    </tr>\n",
       "    <tr>\n",
       "      <th>1993-02-03</th>\n",
       "      <td>0.058337</td>\n",
       "      <td>0.067964</td>\n",
       "    </tr>\n",
       "    <tr>\n",
       "      <th>1993-02-04</th>\n",
       "      <td>0.044272</td>\n",
       "      <td>0.034378</td>\n",
       "    </tr>\n",
       "  </tbody>\n",
       "</table>\n",
       "</div>"
      ],
      "text/plain": [
       "                 CVX       XOM\n",
       "1993-01-29  0.072921 -0.016991\n",
       "1993-02-01  0.102089  0.016991\n",
       "1993-02-02  0.029168  0.084954\n",
       "1993-02-03  0.058337  0.067964\n",
       "1993-02-04  0.044272  0.034378"
      ]
     },
     "execution_count": 37,
     "metadata": {},
     "output_type": "execute_result"
    }
   ],
   "source": [
    "X1 = df_sp500_data[[\"CVX\", \"XOM\"]]\n",
    "X1.head()"
   ]
  },
  {
   "cell_type": "code",
   "execution_count": 38,
   "metadata": {},
   "outputs": [
    {
     "data": {
      "text/plain": [
       "PCA(copy=True, iterated_power='auto', n_components=None, random_state=None,\n",
       "    svd_solver='auto', tol=0.0, whiten=False)"
      ]
     },
     "execution_count": 38,
     "metadata": {},
     "output_type": "execute_result"
    }
   ],
   "source": [
    "from sklearn.decomposition import PCA\n",
    "pca = PCA()\n",
    "pca"
   ]
  },
  {
   "cell_type": "code",
   "execution_count": 39,
   "metadata": {},
   "outputs": [
    {
     "data": {
      "text/plain": [
       "array([[-0.02766642, -0.07261135],\n",
       "       [-0.07204617, -0.06661206],\n",
       "       [-0.06274305,  0.03263485],\n",
       "       ...,\n",
       "       [ 0.77355434,  0.35513294],\n",
       "       [ 1.10661901,  0.23653274],\n",
       "       [ 0.7772994 , -0.55171085]])"
      ]
     },
     "execution_count": 39,
     "metadata": {},
     "output_type": "execute_result"
    }
   ],
   "source": [
    "pca.fit_transform(X1.values)"
   ]
  },
  {
   "cell_type": "code",
   "execution_count": 40,
   "metadata": {},
   "outputs": [
    {
     "data": {
      "text/plain": [
       "array([[-0.74710069, -0.66471089],\n",
       "       [-0.66471089,  0.74710069]])"
      ]
     },
     "execution_count": 40,
     "metadata": {},
     "output_type": "execute_result"
    }
   ],
   "source": [
    "pca.components_"
   ]
  },
  {
   "cell_type": "code",
   "execution_count": 41,
   "metadata": {},
   "outputs": [
    {
     "data": {
      "image/png": "[encoded data removed]",
      "text/plain": [
       "<Figure size 432x288 with 1 Axes>"
      ]
     },
     "metadata": {
      "needs_background": "light"
     },
     "output_type": "display_data"
    }
   ],
   "source": [
    "def abline(slope, intercept):\n",
    "    \"\"\"Plot a line from slope and intercept\"\"\"\n",
    "    axes = plt.gca()\n",
    "    x_vals = np.array(axes.get_xlim())\n",
    "    y_vals = intercept + slope * x_vals\n",
    "    plt.plot(x_vals, y_vals, '--', color=\"k\") \n",
    "\n",
    "plt.scatter(X1[\"CVX\"], X1[\"XOM\"], facecolor=\"lightgrey\", edgecolor=\"k\")\n",
    "abline(pca.components_[1,0]/pca.components_[0,0] ,0)\n",
    "abline(pca.components_[1,1]/pca.components_[0,1] ,0)\n",
    "#circle = plt.Circle(, radius=, edgecolor='k', facecolor=\"none\")\n",
    "#ax.add_artist(circle)"
   ]
  },
  {
   "cell_type": "code",
   "execution_count": 50,
   "metadata": {},
   "outputs": [
    {
     "data": {
      "text/html": [
       "<div>\n",
       "<style scoped>\n",
       "    .dataframe tbody tr th:only-of-type {\n",
       "        vertical-align: middle;\n",
       "    }\n",
       "\n",
       "    .dataframe tbody tr th {\n",
       "        vertical-align: top;\n",
       "    }\n",
       "\n",
       "    .dataframe thead th {\n",
       "        text-align: right;\n",
       "    }\n",
       "</style>\n",
       "<table border=\"1\" class=\"dataframe\">\n",
       "  <thead>\n",
       "    <tr style=\"text-align: right;\">\n",
       "      <th></th>\n",
       "      <th>AAPL</th>\n",
       "      <th>MSFT</th>\n",
       "      <th>CSCO</th>\n",
       "      <th>INTC</th>\n",
       "      <th>CVX</th>\n",
       "      <th>XOM</th>\n",
       "      <th>SLB</th>\n",
       "      <th>COP</th>\n",
       "      <th>JPM</th>\n",
       "      <th>WFC</th>\n",
       "      <th>USB</th>\n",
       "      <th>AXP</th>\n",
       "      <th>WMT</th>\n",
       "      <th>TGT</th>\n",
       "      <th>HD</th>\n",
       "      <th>COST</th>\n",
       "    </tr>\n",
       "  </thead>\n",
       "  <tbody>\n",
       "    <tr>\n",
       "      <th>2004-01-02</th>\n",
       "      <td>-0.018120</td>\n",
       "      <td>-0.092718</td>\n",
       "      <td>-0.098190</td>\n",
       "      <td>-0.147609</td>\n",
       "      <td>-0.201985</td>\n",
       "      <td>-0.298344</td>\n",
       "      <td>-0.025816</td>\n",
       "      <td>0.002606</td>\n",
       "      <td>0.044120</td>\n",
       "      <td>-0.120303</td>\n",
       "      <td>-0.304366</td>\n",
       "      <td>-0.503106</td>\n",
       "      <td>-0.834631</td>\n",
       "      <td>-0.603707</td>\n",
       "      <td>-0.556631</td>\n",
       "      <td>-0.694440</td>\n",
       "    </tr>\n",
       "    <tr>\n",
       "      <th>2004-01-05</th>\n",
       "      <td>0.050320</td>\n",
       "      <td>0.292419</td>\n",
       "      <td>0.330272</td>\n",
       "      <td>0.287836</td>\n",
       "      <td>0.342344</td>\n",
       "      <td>0.367196</td>\n",
       "      <td>0.563647</td>\n",
       "      <td>0.305002</td>\n",
       "      <td>-0.080890</td>\n",
       "      <td>0.000000</td>\n",
       "      <td>-0.226504</td>\n",
       "      <td>0.066590</td>\n",
       "      <td>-0.540524</td>\n",
       "      <td>-0.289447</td>\n",
       "      <td>-0.030501</td>\n",
       "      <td>-0.231478</td>\n",
       "    </tr>\n",
       "    <tr>\n",
       "      <th>2004-01-06</th>\n",
       "      <td>-0.010737</td>\n",
       "      <td>0.035660</td>\n",
       "      <td>0.205304</td>\n",
       "      <td>-0.014758</td>\n",
       "      <td>0.154054</td>\n",
       "      <td>-0.168298</td>\n",
       "      <td>-0.275370</td>\n",
       "      <td>-0.059960</td>\n",
       "      <td>0.235313</td>\n",
       "      <td>0.040099</td>\n",
       "      <td>-0.084939</td>\n",
       "      <td>0.221948</td>\n",
       "      <td>0.786940</td>\n",
       "      <td>0.554086</td>\n",
       "      <td>0.244002</td>\n",
       "      <td>0.367178</td>\n",
       "    </tr>\n",
       "    <tr>\n",
       "      <th>2004-01-07</th>\n",
       "      <td>0.032877</td>\n",
       "      <td>0.028528</td>\n",
       "      <td>0.348124</td>\n",
       "      <td>0.487108</td>\n",
       "      <td>-0.304686</td>\n",
       "      <td>-0.061200</td>\n",
       "      <td>-0.477595</td>\n",
       "      <td>0.044311</td>\n",
       "      <td>0.382384</td>\n",
       "      <td>-0.036456</td>\n",
       "      <td>0.148643</td>\n",
       "      <td>-0.036987</td>\n",
       "      <td>0.111284</td>\n",
       "      <td>-0.066158</td>\n",
       "      <td>0.350756</td>\n",
       "      <td>0.399104</td>\n",
       "    </tr>\n",
       "    <tr>\n",
       "      <th>2004-01-08</th>\n",
       "      <td>0.034887</td>\n",
       "      <td>-0.164040</td>\n",
       "      <td>0.446314</td>\n",
       "      <td>0.051666</td>\n",
       "      <td>0.188290</td>\n",
       "      <td>-0.007648</td>\n",
       "      <td>0.365725</td>\n",
       "      <td>0.273717</td>\n",
       "      <td>0.419152</td>\n",
       "      <td>-0.010936</td>\n",
       "      <td>-0.021236</td>\n",
       "      <td>-0.170168</td>\n",
       "      <td>-0.699502</td>\n",
       "      <td>-1.108175</td>\n",
       "      <td>-0.221128</td>\n",
       "      <td>-0.111752</td>\n",
       "    </tr>\n",
       "  </tbody>\n",
       "</table>\n",
       "</div>"
      ],
      "text/plain": [
       "                AAPL      MSFT      CSCO      INTC       CVX       XOM  \\\n",
       "2004-01-02 -0.018120 -0.092718 -0.098190 -0.147609 -0.201985 -0.298344   \n",
       "2004-01-05  0.050320  0.292419  0.330272  0.287836  0.342344  0.367196   \n",
       "2004-01-06 -0.010737  0.035660  0.205304 -0.014758  0.154054 -0.168298   \n",
       "2004-01-07  0.032877  0.028528  0.348124  0.487108 -0.304686 -0.061200   \n",
       "2004-01-08  0.034887 -0.164040  0.446314  0.051666  0.188290 -0.007648   \n",
       "\n",
       "                 SLB       COP       JPM       WFC       USB       AXP  \\\n",
       "2004-01-02 -0.025816  0.002606  0.044120 -0.120303 -0.304366 -0.503106   \n",
       "2004-01-05  0.563647  0.305002 -0.080890  0.000000 -0.226504  0.066590   \n",
       "2004-01-06 -0.275370 -0.059960  0.235313  0.040099 -0.084939  0.221948   \n",
       "2004-01-07 -0.477595  0.044311  0.382384 -0.036456  0.148643 -0.036987   \n",
       "2004-01-08  0.365725  0.273717  0.419152 -0.010936 -0.021236 -0.170168   \n",
       "\n",
       "                 WMT       TGT        HD      COST  \n",
       "2004-01-02 -0.834631 -0.603707 -0.556631 -0.694440  \n",
       "2004-01-05 -0.540524 -0.289447 -0.030501 -0.231478  \n",
       "2004-01-06  0.786940  0.554086  0.244002  0.367178  \n",
       "2004-01-07  0.111284 -0.066158  0.350756  0.399104  \n",
       "2004-01-08 -0.699502 -1.108175 -0.221128 -0.111752  "
      ]
     },
     "execution_count": 50,
     "metadata": {},
     "output_type": "execute_result"
    }
   ],
   "source": [
    "X2 = df_sp500_data[['AAPL', 'MSFT', 'CSCO', 'INTC', 'CVX', 'XOM', 'SLB', 'COP', 'JPM', 'WFC', 'USB', 'AXP', 'WMT', 'TGT', 'HD', 'COST']]\n",
    "x2_top = X2.loc[\"2004-01-01\":]\n",
    "x2_top.head()"
   ]
  },
  {
   "cell_type": "code",
   "execution_count": 52,
   "metadata": {},
   "outputs": [
    {
     "data": {
      "text/plain": [
       "PCA(copy=True, iterated_power='auto', n_components=10, random_state=None,\n",
       "    svd_solver='auto', tol=0.0, whiten=False)"
      ]
     },
     "execution_count": 52,
     "metadata": {},
     "output_type": "execute_result"
    }
   ],
   "source": [
    "pca1 = PCA(10)\n",
    "pca1\n"
   ]
  },
  {
   "cell_type": "code",
   "execution_count": 53,
   "metadata": {},
   "outputs": [
    {
     "data": {
      "text/plain": [
       "PCA(copy=True, iterated_power='auto', n_components=10, random_state=None,\n",
       "    svd_solver='auto', tol=0.0, whiten=False)"
      ]
     },
     "execution_count": 53,
     "metadata": {},
     "output_type": "execute_result"
    }
   ],
   "source": [
    "pca1.fit(x2_top.values)"
   ]
  },
  {
   "cell_type": "code",
   "execution_count": 58,
   "metadata": {},
   "outputs": [
    {
     "data": {
      "text/plain": [
       "Text(0.5, 1.0, 'PCA Scree Plot')"
      ]
     },
     "execution_count": 58,
     "metadata": {},
     "output_type": "execute_result"
    },
    {
     "data": {
      "image/png": "[encoded data removed]",
      "text/plain": [
       "<Figure size 720x504 with 1 Axes>"
      ]
     },
     "metadata": {
      "needs_background": "light"
     },
     "output_type": "display_data"
    }
   ],
   "source": [
    "pct_variance = np.round(pca1.explained_variance_ratio_* 100, decimals =2)\n",
    "components = [\"comp.\"+str(x) for x in range(1, 11)]\n",
    "\n",
    "plt.figure(figsize=(10, 7))\n",
    "plt.bar(x= components, height=pct_variance)\n",
    "plt.ylabel('Percentate of Variance Explained')\n",
    "plt.xlabel('Principal Component')\n",
    "plt.title('PCA Scree Plot')"
   ]
  },
  {
   "cell_type": "code",
   "execution_count": 59,
   "metadata": {},
   "outputs": [],
   "source": [
    "#facet grid by weights"
   ]
  },
  {
   "cell_type": "code",
   "execution_count": 70,
   "metadata": {},
   "outputs": [
    {
     "data": {
      "text/html": [
       "<div>\n",
       "<style scoped>\n",
       "    .dataframe tbody tr th:only-of-type {\n",
       "        vertical-align: middle;\n",
       "    }\n",
       "\n",
       "    .dataframe tbody tr th {\n",
       "        vertical-align: top;\n",
       "    }\n",
       "\n",
       "    .dataframe thead th {\n",
       "        text-align: right;\n",
       "    }\n",
       "</style>\n",
       "<table border=\"1\" class=\"dataframe\">\n",
       "  <thead>\n",
       "    <tr style=\"text-align: right;\">\n",
       "      <th></th>\n",
       "      <th>CVX</th>\n",
       "      <th>XOM</th>\n",
       "    </tr>\n",
       "  </thead>\n",
       "  <tbody>\n",
       "    <tr>\n",
       "      <th>2011-01-03</th>\n",
       "      <td>0.240681</td>\n",
       "      <td>0.736805</td>\n",
       "    </tr>\n",
       "    <tr>\n",
       "      <th>2011-01-04</th>\n",
       "      <td>-0.584516</td>\n",
       "      <td>0.168668</td>\n",
       "    </tr>\n",
       "    <tr>\n",
       "      <th>2011-01-05</th>\n",
       "      <td>0.446985</td>\n",
       "      <td>0.026631</td>\n",
       "    </tr>\n",
       "    <tr>\n",
       "      <th>2011-01-06</th>\n",
       "      <td>-0.919751</td>\n",
       "      <td>0.248558</td>\n",
       "    </tr>\n",
       "    <tr>\n",
       "      <th>2011-01-07</th>\n",
       "      <td>0.180511</td>\n",
       "      <td>0.337329</td>\n",
       "    </tr>\n",
       "  </tbody>\n",
       "</table>\n",
       "</div>"
      ],
      "text/plain": [
       "                 CVX       XOM\n",
       "2011-01-03  0.240681  0.736805\n",
       "2011-01-04 -0.584516  0.168668\n",
       "2011-01-05  0.446985  0.026631\n",
       "2011-01-06 -0.919751  0.248558\n",
       "2011-01-07  0.180511  0.337329"
      ]
     },
     "execution_count": 70,
     "metadata": {},
     "output_type": "execute_result"
    }
   ],
   "source": [
    "X2 = X1['2011-01-01':]\n",
    "X2.head()"
   ]
  },
  {
   "cell_type": "code",
   "execution_count": 71,
   "metadata": {},
   "outputs": [
    {
     "data": {
      "text/plain": [
       "KMeans(algorithm='auto', copy_x=True, init='k-means++', max_iter=300,\n",
       "       n_clusters=4, n_init=10, n_jobs=None, precompute_distances='auto',\n",
       "       random_state=None, tol=0.0001, verbose=0)"
      ]
     },
     "execution_count": 71,
     "metadata": {},
     "output_type": "execute_result"
    }
   ],
   "source": [
    "from sklearn.cluster import KMeans\n",
    "km = KMeans(n_clusters=4)\n",
    "km"
   ]
  },
  {
   "cell_type": "code",
   "execution_count": 72,
   "metadata": {},
   "outputs": [
    {
     "data": {
      "text/plain": [
       "array([0, 3, 0, ..., 3, 3, 3])"
      ]
     },
     "execution_count": 72,
     "metadata": {},
     "output_type": "execute_result"
    }
   ],
   "source": [
    "cls = km.fit_predict(X2.values)\n",
    "cls"
   ]
  },
  {
   "cell_type": "code",
   "execution_count": 73,
   "metadata": {},
   "outputs": [
    {
     "name": "stderr",
     "output_type": "stream",
     "text": [
      "c:\\users\\abhishek\\appdata\\local\\programs\\python\\python36\\lib\\site-packages\\ipykernel_launcher.py:1: SettingWithCopyWarning: \n",
      "A value is trying to be set on a copy of a slice from a DataFrame.\n",
      "Try using .loc[row_indexer,col_indexer] = value instead\n",
      "\n",
      "See the caveats in the documentation: http://pandas.pydata.org/pandas-docs/stable/user_guide/indexing.html#returning-a-view-versus-a-copy\n",
      "  \"\"\"Entry point for launching an IPython kernel.\n"
     ]
    },
    {
     "data": {
      "text/html": [
       "<div>\n",
       "<style scoped>\n",
       "    .dataframe tbody tr th:only-of-type {\n",
       "        vertical-align: middle;\n",
       "    }\n",
       "\n",
       "    .dataframe tbody tr th {\n",
       "        vertical-align: top;\n",
       "    }\n",
       "\n",
       "    .dataframe thead th {\n",
       "        text-align: right;\n",
       "    }\n",
       "</style>\n",
       "<table border=\"1\" class=\"dataframe\">\n",
       "  <thead>\n",
       "    <tr style=\"text-align: right;\">\n",
       "      <th></th>\n",
       "      <th>CVX</th>\n",
       "      <th>XOM</th>\n",
       "      <th>CLASS</th>\n",
       "    </tr>\n",
       "  </thead>\n",
       "  <tbody>\n",
       "    <tr>\n",
       "      <th>2011-01-03</th>\n",
       "      <td>0.240681</td>\n",
       "      <td>0.736805</td>\n",
       "      <td>0</td>\n",
       "    </tr>\n",
       "    <tr>\n",
       "      <th>2011-01-04</th>\n",
       "      <td>-0.584516</td>\n",
       "      <td>0.168668</td>\n",
       "      <td>3</td>\n",
       "    </tr>\n",
       "    <tr>\n",
       "      <th>2011-01-05</th>\n",
       "      <td>0.446985</td>\n",
       "      <td>0.026631</td>\n",
       "      <td>0</td>\n",
       "    </tr>\n",
       "    <tr>\n",
       "      <th>2011-01-06</th>\n",
       "      <td>-0.919751</td>\n",
       "      <td>0.248558</td>\n",
       "      <td>3</td>\n",
       "    </tr>\n",
       "    <tr>\n",
       "      <th>2011-01-07</th>\n",
       "      <td>0.180511</td>\n",
       "      <td>0.337329</td>\n",
       "      <td>0</td>\n",
       "    </tr>\n",
       "  </tbody>\n",
       "</table>\n",
       "</div>"
      ],
      "text/plain": [
       "                 CVX       XOM  CLASS\n",
       "2011-01-03  0.240681  0.736805      0\n",
       "2011-01-04 -0.584516  0.168668      3\n",
       "2011-01-05  0.446985  0.026631      0\n",
       "2011-01-06 -0.919751  0.248558      3\n",
       "2011-01-07  0.180511  0.337329      0"
      ]
     },
     "execution_count": 73,
     "metadata": {},
     "output_type": "execute_result"
    }
   ],
   "source": [
    "X2[\"CLASS\"] = cls\n",
    "X2.head()"
   ]
  },
  {
   "cell_type": "code",
   "execution_count": 107,
   "metadata": {},
   "outputs": [
    {
     "data": {
      "text/plain": [
       "<matplotlib.legend.Legend at 0x13de6d122b0>"
      ]
     },
     "execution_count": 107,
     "metadata": {},
     "output_type": "execute_result"
    },
    {
     "data": {
      "image/png": "[encoded data removed]",
      "text/plain": [
       "<Figure size 1080x576 with 1 Axes>"
      ]
     },
     "metadata": {
      "needs_background": "light"
     },
     "output_type": "display_data"
    }
   ],
   "source": [
    "cl_cent = km.cluster_centers_\n",
    "\n",
    "plt.figure(figsize=(15, 8))\n",
    "plt.scatter(X2[X2['CLASS']==0][\"XOM\"], X2[X2['CLASS']==0][\"CVX\"], marker=\"o\", edgecolor=\"red\", s=50, facecolor=\"none\", linewidth=0.5)\n",
    "plt.scatter(X2[X2['CLASS']==1][\"XOM\"], X2[X2['CLASS']==1][\"CVX\"], marker=\"^\", edgecolor=\"green\",s=50, facecolor=\"none\", linewidth=0.5)\n",
    "plt.scatter(X2[X2['CLASS']==2][\"XOM\"], X2[X2['CLASS']==2][\"CVX\"], marker=\"+\", color=\"violet\", s=50, linewidth=0.5)\n",
    "plt.scatter(X2[X2['CLASS']==3][\"XOM\"], X2[X2['CLASS']==3][\"CVX\"], marker=\"x\", color=\"cyan\", s=50, linewidth=0.5)\n",
    "plt.scatter(cl_cent[0][0], cl_cent[0][1], marker=\"o\", linewidth=4, color=\"red\", s=200, label=1)\n",
    "plt.scatter(cl_cent[1][0], cl_cent[1][1], marker=\"^\", linewidth=4, color=\"green\", s=200, label=2)\n",
    "plt.scatter(cl_cent[2][0], cl_cent[2][1], marker=\"+\", linewidth=4, color=\"violet\", s=200, label=3)\n",
    "plt.scatter(cl_cent[3][0], cl_cent[3][1], marker=\"x\", linewidth=4, color=\"cyan\", s=200, label=4)\n",
    "plt.legend()"
   ]
  },
  {
   "cell_type": "code",
   "execution_count": 109,
   "metadata": {},
   "outputs": [
    {
     "data": {
      "text/html": [
       "<div>\n",
       "<style scoped>\n",
       "    .dataframe tbody tr th:only-of-type {\n",
       "        vertical-align: middle;\n",
       "    }\n",
       "\n",
       "    .dataframe tbody tr th {\n",
       "        vertical-align: top;\n",
       "    }\n",
       "\n",
       "    .dataframe thead th {\n",
       "        text-align: right;\n",
       "    }\n",
       "</style>\n",
       "<table border=\"1\" class=\"dataframe\">\n",
       "  <thead>\n",
       "    <tr style=\"text-align: right;\">\n",
       "      <th></th>\n",
       "      <th>AAPL</th>\n",
       "      <th>MSFT</th>\n",
       "      <th>CSCO</th>\n",
       "      <th>INTC</th>\n",
       "      <th>CVX</th>\n",
       "      <th>XOM</th>\n",
       "      <th>SLB</th>\n",
       "      <th>COP</th>\n",
       "      <th>JPM</th>\n",
       "      <th>WFC</th>\n",
       "      <th>USB</th>\n",
       "      <th>AXP</th>\n",
       "      <th>WMT</th>\n",
       "      <th>TGT</th>\n",
       "      <th>HD</th>\n",
       "      <th>COST</th>\n",
       "    </tr>\n",
       "  </thead>\n",
       "  <tbody>\n",
       "    <tr>\n",
       "      <th>2011-01-03</th>\n",
       "      <td>0.527368</td>\n",
       "      <td>-0.061805</td>\n",
       "      <td>0.035704</td>\n",
       "      <td>-0.137211</td>\n",
       "      <td>0.240681</td>\n",
       "      <td>0.736805</td>\n",
       "      <td>-0.325923</td>\n",
       "      <td>-0.336272</td>\n",
       "      <td>0.512093</td>\n",
       "      <td>0.250042</td>\n",
       "      <td>-0.234866</td>\n",
       "      <td>0.093870</td>\n",
       "      <td>0.294839</td>\n",
       "      <td>0.455646</td>\n",
       "      <td>0.099184</td>\n",
       "      <td>-0.240605</td>\n",
       "    </tr>\n",
       "    <tr>\n",
       "      <th>2011-01-04</th>\n",
       "      <td>-0.154321</td>\n",
       "      <td>0.132440</td>\n",
       "      <td>0.008926</td>\n",
       "      <td>0.025726</td>\n",
       "      <td>-0.584516</td>\n",
       "      <td>0.168668</td>\n",
       "      <td>-2.030049</td>\n",
       "      <td>-0.463161</td>\n",
       "      <td>0.335894</td>\n",
       "      <td>0.000000</td>\n",
       "      <td>-0.153566</td>\n",
       "      <td>-0.431788</td>\n",
       "      <td>0.142951</td>\n",
       "      <td>-0.580720</td>\n",
       "      <td>-0.541005</td>\n",
       "      <td>-0.171859</td>\n",
       "    </tr>\n",
       "    <tr>\n",
       "      <th>2011-01-05</th>\n",
       "      <td>0.597152</td>\n",
       "      <td>0.088294</td>\n",
       "      <td>0.169599</td>\n",
       "      <td>-0.214392</td>\n",
       "      <td>0.446985</td>\n",
       "      <td>0.026631</td>\n",
       "      <td>1.536499</td>\n",
       "      <td>-0.057104</td>\n",
       "      <td>0.689468</td>\n",
       "      <td>0.857284</td>\n",
       "      <td>0.198732</td>\n",
       "      <td>0.895406</td>\n",
       "      <td>-0.303772</td>\n",
       "      <td>-0.482448</td>\n",
       "      <td>-0.054099</td>\n",
       "      <td>-0.859307</td>\n",
       "    </tr>\n",
       "    <tr>\n",
       "      <th>2011-01-06</th>\n",
       "      <td>-0.132850</td>\n",
       "      <td>0.688689</td>\n",
       "      <td>0.035706</td>\n",
       "      <td>0.085757</td>\n",
       "      <td>-0.919751</td>\n",
       "      <td>0.248558</td>\n",
       "      <td>-1.927614</td>\n",
       "      <td>-0.463161</td>\n",
       "      <td>0.070713</td>\n",
       "      <td>0.000000</td>\n",
       "      <td>-0.532962</td>\n",
       "      <td>-0.612646</td>\n",
       "      <td>-0.312709</td>\n",
       "      <td>-0.786210</td>\n",
       "      <td>-0.189354</td>\n",
       "      <td>0.249200</td>\n",
       "    </tr>\n",
       "    <tr>\n",
       "      <th>2011-01-07</th>\n",
       "      <td>0.285820</td>\n",
       "      <td>-0.035317</td>\n",
       "      <td>0.098187</td>\n",
       "      <td>-0.042878</td>\n",
       "      <td>0.180511</td>\n",
       "      <td>0.337329</td>\n",
       "      <td>0.931215</td>\n",
       "      <td>-0.006350</td>\n",
       "      <td>-0.795539</td>\n",
       "      <td>-0.651894</td>\n",
       "      <td>-0.171633</td>\n",
       "      <td>-0.537242</td>\n",
       "      <td>0.169758</td>\n",
       "      <td>-0.089345</td>\n",
       "      <td>-0.036064</td>\n",
       "      <td>-0.257788</td>\n",
       "    </tr>\n",
       "  </tbody>\n",
       "</table>\n",
       "</div>"
      ],
      "text/plain": [
       "                AAPL      MSFT      CSCO      INTC       CVX       XOM  \\\n",
       "2011-01-03  0.527368 -0.061805  0.035704 -0.137211  0.240681  0.736805   \n",
       "2011-01-04 -0.154321  0.132440  0.008926  0.025726 -0.584516  0.168668   \n",
       "2011-01-05  0.597152  0.088294  0.169599 -0.214392  0.446985  0.026631   \n",
       "2011-01-06 -0.132850  0.688689  0.035706  0.085757 -0.919751  0.248558   \n",
       "2011-01-07  0.285820 -0.035317  0.098187 -0.042878  0.180511  0.337329   \n",
       "\n",
       "                 SLB       COP       JPM       WFC       USB       AXP  \\\n",
       "2011-01-03 -0.325923 -0.336272  0.512093  0.250042 -0.234866  0.093870   \n",
       "2011-01-04 -2.030049 -0.463161  0.335894  0.000000 -0.153566 -0.431788   \n",
       "2011-01-05  1.536499 -0.057104  0.689468  0.857284  0.198732  0.895406   \n",
       "2011-01-06 -1.927614 -0.463161  0.070713  0.000000 -0.532962 -0.612646   \n",
       "2011-01-07  0.931215 -0.006350 -0.795539 -0.651894 -0.171633 -0.537242   \n",
       "\n",
       "                 WMT       TGT        HD      COST  \n",
       "2011-01-03  0.294839  0.455646  0.099184 -0.240605  \n",
       "2011-01-04  0.142951 -0.580720 -0.541005 -0.171859  \n",
       "2011-01-05 -0.303772 -0.482448 -0.054099 -0.859307  \n",
       "2011-01-06 -0.312709 -0.786210 -0.189354  0.249200  \n",
       "2011-01-07  0.169758 -0.089345 -0.036064 -0.257788  "
      ]
     },
     "execution_count": 109,
     "metadata": {},
     "output_type": "execute_result"
    }
   ],
   "source": [
    "X3 = df_sp500_data[['AAPL', 'MSFT', 'CSCO', 'INTC', 'CVX', 'XOM', 'SLB', 'COP', 'JPM', 'WFC', 'USB', 'AXP', 'WMT', 'TGT', 'HD', 'COST']]\n",
    "x3_top = X3.loc[\"2011-01-01\":]\n",
    "x3_top.head()"
   ]
  },
  {
   "cell_type": "code",
   "execution_count": 115,
   "metadata": {},
   "outputs": [
    {
     "data": {
      "text/plain": [
       "KMeans(algorithm='auto', copy_x=True, init='k-means++', max_iter=300,\n",
       "       n_clusters=5, n_init=10, n_jobs=None, precompute_distances='auto',\n",
       "       random_state=None, tol=0.0001, verbose=0)"
      ]
     },
     "execution_count": 115,
     "metadata": {},
     "output_type": "execute_result"
    }
   ],
   "source": [
    "km2 = KMeans(n_init=10, n_clusters=5)\n",
    "km2"
   ]
  },
  {
   "cell_type": "code",
   "execution_count": 118,
   "metadata": {},
   "outputs": [
    {
     "data": {
      "text/plain": [
       "array([2, 0, 4, ..., 3, 0, 0])"
      ]
     },
     "execution_count": 118,
     "metadata": {},
     "output_type": "execute_result"
    }
   ],
   "source": [
    "cls1 = km2.fit_predict(x3_top.values)\n",
    "cls1"
   ]
  },
  {
   "cell_type": "code",
   "execution_count": 121,
   "metadata": {},
   "outputs": [
    {
     "data": {
      "text/plain": [
       "(array([0, 1, 2, 3, 4]), array([275, 165, 297, 108, 286], dtype=int64))"
      ]
     },
     "execution_count": 121,
     "metadata": {},
     "output_type": "execute_result"
    }
   ],
   "source": [
    "labels, counts = np.unique(cls1, return_counts=True)\n",
    "labels, counts"
   ]
  },
  {
   "cell_type": "code",
   "execution_count": 122,
   "metadata": {},
   "outputs": [],
   "source": [
    "#Figure 7-5. The means of the variables in each cluster (“cluster means”)"
   ]
  },
  {
   "cell_type": "code",
   "execution_count": 133,
   "metadata": {},
   "outputs": [
    {
     "data": {
      "image/png": "[encoded data removed]",
      "text/plain": [
       "<Figure size 432x288 with 1 Axes>"
      ]
     },
     "metadata": {
      "needs_background": "light"
     },
     "output_type": "display_data"
    }
   ],
   "source": [
    "from scipy.spatial.distance import cdist, pdist\n",
    "\n",
    "def elbow(df, n):\n",
    "    kMeansVar = [KMeans(n_clusters=k).fit(df.values) for k in range(2, n+1)]\n",
    "    centroids = [X.cluster_centers_ for X in kMeansVar]\n",
    "    k_euclid = [cdist(df.values, cent) for cent in centroids]\n",
    "    dist = [np.min(ke, axis=1) for ke in k_euclid]\n",
    "    wcss = [sum(d**2) for d in dist]\n",
    "    tss = sum(pdist(df.values)**2)/df.values.shape[0]\n",
    "    bss = tss - wcss\n",
    "    plt.plot(bss)\n",
    "    plt.show()\n",
    "\n",
    "elbow(X2.drop([\"CLASS\"], axis=1), 15)\n"
   ]
  },
  {
   "cell_type": "code",
   "execution_count": null,
   "metadata": {},
   "outputs": [],
   "source": [
    "#Hierarichal cluster on \n",
    "    OOGL', 'AMZN', 'AAPL', 'MSFT', 'CSCO', 'INTC', 'CVX', \n",
    "           'XOM', 'SLB', 'COP', 'JPM', 'WFC', 'USB', 'AXP',\n",
    "           'WMT', 'TGT', 'HD', 'COST')\n",
    "\n",
    "df <- sp500_px[row.names(sp500_px)>='2011-01-01', syms1]\n",
    "\n",
    "#Typesof hierarichal cluster on CVX XOM >2011-01-01\n",
    "#model based cluster on CVX XOM >2011-01-01"
   ]
  }
 ],
 "metadata": {
  "kernelspec": {
   "display_name": "Python 3",
   "language": "python",
   "name": "python3"
  },
  "language_info": {
   "codemirror_mode": {
    "name": "ipython",
    "version": 3
   },
   "file_extension": ".py",
   "mimetype": "text/x-python",
   "name": "python",
   "nbconvert_exporter": "python",
   "pygments_lexer": "ipython3",
   "version": "3.6.0"
  }
 },
 "nbformat": 4,
 "nbformat_minor": 2
}
