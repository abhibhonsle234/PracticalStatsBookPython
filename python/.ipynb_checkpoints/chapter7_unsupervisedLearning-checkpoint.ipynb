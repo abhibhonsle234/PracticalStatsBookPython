{
 "cells": [
  {
   "cell_type": "code",
   "execution_count": 68,
   "metadata": {},
   "outputs": [],
   "source": [
    "import pandas as pd\n",
    "import numpy as np\n",
    "import matplotlib.pyplot as plt\n",
    "import warnings \n",
    "warnings.filterwarnings('ignore')"
   ]
  },
  {
   "cell_type": "code",
   "execution_count": 2,
   "metadata": {},
   "outputs": [
    {
     "data": {
      "text/html": [
       "<div>\n",
       "<style scoped>\n",
       "    .dataframe tbody tr th:only-of-type {\n",
       "        vertical-align: middle;\n",
       "    }\n",
       "\n",
       "    .dataframe tbody tr th {\n",
       "        vertical-align: top;\n",
       "    }\n",
       "\n",
       "    .dataframe thead th {\n",
       "        text-align: right;\n",
       "    }\n",
       "</style>\n",
       "<table border=\"1\" class=\"dataframe\">\n",
       "  <thead>\n",
       "    <tr style=\"text-align: right;\">\n",
       "      <th></th>\n",
       "      <th>ADS</th>\n",
       "      <th>CA</th>\n",
       "      <th>MSFT</th>\n",
       "      <th>RHT</th>\n",
       "      <th>CTSH</th>\n",
       "      <th>CSC</th>\n",
       "      <th>EMC</th>\n",
       "      <th>IBM</th>\n",
       "      <th>XRX</th>\n",
       "      <th>ALTR</th>\n",
       "      <th>...</th>\n",
       "      <th>WAT</th>\n",
       "      <th>ALXN</th>\n",
       "      <th>AMGN</th>\n",
       "      <th>BXLT</th>\n",
       "      <th>BIIB</th>\n",
       "      <th>CELG</th>\n",
       "      <th>GILD</th>\n",
       "      <th>REGN</th>\n",
       "      <th>VRTX</th>\n",
       "      <th>HSIC</th>\n",
       "    </tr>\n",
       "  </thead>\n",
       "  <tbody>\n",
       "    <tr>\n",
       "      <th>1993-01-29</th>\n",
       "      <td>0.0</td>\n",
       "      <td>0.060124</td>\n",
       "      <td>-0.022100</td>\n",
       "      <td>0.0</td>\n",
       "      <td>0.0</td>\n",
       "      <td>0.018897</td>\n",
       "      <td>0.007368</td>\n",
       "      <td>0.092165</td>\n",
       "      <td>0.259140</td>\n",
       "      <td>-0.007105</td>\n",
       "      <td>...</td>\n",
       "      <td>0.0</td>\n",
       "      <td>0.0</td>\n",
       "      <td>0.34716</td>\n",
       "      <td>0.0</td>\n",
       "      <td>0.04167</td>\n",
       "      <td>0.00000</td>\n",
       "      <td>0.015564</td>\n",
       "      <td>1.75</td>\n",
       "      <td>0.1250</td>\n",
       "      <td>0.0</td>\n",
       "    </tr>\n",
       "    <tr>\n",
       "      <th>1993-02-01</th>\n",
       "      <td>0.0</td>\n",
       "      <td>-0.180389</td>\n",
       "      <td>0.027621</td>\n",
       "      <td>0.0</td>\n",
       "      <td>0.0</td>\n",
       "      <td>0.018889</td>\n",
       "      <td>0.018425</td>\n",
       "      <td>0.115207</td>\n",
       "      <td>-0.100775</td>\n",
       "      <td>0.063893</td>\n",
       "      <td>...</td>\n",
       "      <td>0.0</td>\n",
       "      <td>0.0</td>\n",
       "      <td>-0.23144</td>\n",
       "      <td>0.0</td>\n",
       "      <td>0.00000</td>\n",
       "      <td>-0.01041</td>\n",
       "      <td>0.007782</td>\n",
       "      <td>1.25</td>\n",
       "      <td>0.1250</td>\n",
       "      <td>0.0</td>\n",
       "    </tr>\n",
       "    <tr>\n",
       "      <th>1993-02-02</th>\n",
       "      <td>0.0</td>\n",
       "      <td>-0.120257</td>\n",
       "      <td>0.035900</td>\n",
       "      <td>0.0</td>\n",
       "      <td>0.0</td>\n",
       "      <td>-0.075573</td>\n",
       "      <td>0.029482</td>\n",
       "      <td>-0.023041</td>\n",
       "      <td>0.028796</td>\n",
       "      <td>-0.014192</td>\n",
       "      <td>...</td>\n",
       "      <td>0.0</td>\n",
       "      <td>0.0</td>\n",
       "      <td>-0.11572</td>\n",
       "      <td>0.0</td>\n",
       "      <td>0.00000</td>\n",
       "      <td>0.00000</td>\n",
       "      <td>-0.007792</td>\n",
       "      <td>-0.25</td>\n",
       "      <td>0.0000</td>\n",
       "      <td>0.0</td>\n",
       "    </tr>\n",
       "    <tr>\n",
       "      <th>1993-02-03</th>\n",
       "      <td>0.0</td>\n",
       "      <td>0.060124</td>\n",
       "      <td>-0.024857</td>\n",
       "      <td>0.0</td>\n",
       "      <td>0.0</td>\n",
       "      <td>-0.151128</td>\n",
       "      <td>0.003689</td>\n",
       "      <td>-0.253454</td>\n",
       "      <td>-0.043190</td>\n",
       "      <td>-0.007105</td>\n",
       "      <td>...</td>\n",
       "      <td>0.0</td>\n",
       "      <td>0.0</td>\n",
       "      <td>-0.08679</td>\n",
       "      <td>0.0</td>\n",
       "      <td>0.04167</td>\n",
       "      <td>-0.04167</td>\n",
       "      <td>-0.038919</td>\n",
       "      <td>-0.50</td>\n",
       "      <td>0.0625</td>\n",
       "      <td>0.0</td>\n",
       "    </tr>\n",
       "    <tr>\n",
       "      <th>1993-02-04</th>\n",
       "      <td>0.0</td>\n",
       "      <td>-0.360770</td>\n",
       "      <td>-0.060757</td>\n",
       "      <td>0.0</td>\n",
       "      <td>0.0</td>\n",
       "      <td>0.113350</td>\n",
       "      <td>-0.022114</td>\n",
       "      <td>0.069862</td>\n",
       "      <td>0.000000</td>\n",
       "      <td>-0.007096</td>\n",
       "      <td>...</td>\n",
       "      <td>0.0</td>\n",
       "      <td>0.0</td>\n",
       "      <td>0.14465</td>\n",
       "      <td>0.0</td>\n",
       "      <td>-0.04166</td>\n",
       "      <td>-0.03126</td>\n",
       "      <td>-0.046711</td>\n",
       "      <td>0.00</td>\n",
       "      <td>0.0625</td>\n",
       "      <td>0.0</td>\n",
       "    </tr>\n",
       "  </tbody>\n",
       "</table>\n",
       "<p>5 rows × 517 columns</p>\n",
       "</div>"
      ],
      "text/plain": [
       "            ADS        CA      MSFT  RHT  CTSH       CSC       EMC       IBM  \\\n",
       "1993-01-29  0.0  0.060124 -0.022100  0.0   0.0  0.018897  0.007368  0.092165   \n",
       "1993-02-01  0.0 -0.180389  0.027621  0.0   0.0  0.018889  0.018425  0.115207   \n",
       "1993-02-02  0.0 -0.120257  0.035900  0.0   0.0 -0.075573  0.029482 -0.023041   \n",
       "1993-02-03  0.0  0.060124 -0.024857  0.0   0.0 -0.151128  0.003689 -0.253454   \n",
       "1993-02-04  0.0 -0.360770 -0.060757  0.0   0.0  0.113350 -0.022114  0.069862   \n",
       "\n",
       "                 XRX      ALTR  ...  WAT  ALXN     AMGN  BXLT     BIIB  \\\n",
       "1993-01-29  0.259140 -0.007105  ...  0.0   0.0  0.34716   0.0  0.04167   \n",
       "1993-02-01 -0.100775  0.063893  ...  0.0   0.0 -0.23144   0.0  0.00000   \n",
       "1993-02-02  0.028796 -0.014192  ...  0.0   0.0 -0.11572   0.0  0.00000   \n",
       "1993-02-03 -0.043190 -0.007105  ...  0.0   0.0 -0.08679   0.0  0.04167   \n",
       "1993-02-04  0.000000 -0.007096  ...  0.0   0.0  0.14465   0.0 -0.04166   \n",
       "\n",
       "               CELG      GILD  REGN    VRTX  HSIC  \n",
       "1993-01-29  0.00000  0.015564  1.75  0.1250   0.0  \n",
       "1993-02-01 -0.01041  0.007782  1.25  0.1250   0.0  \n",
       "1993-02-02  0.00000 -0.007792 -0.25  0.0000   0.0  \n",
       "1993-02-03 -0.04167 -0.038919 -0.50  0.0625   0.0  \n",
       "1993-02-04 -0.03126 -0.046711  0.00  0.0625   0.0  \n",
       "\n",
       "[5 rows x 517 columns]"
      ]
     },
     "execution_count": 2,
     "metadata": {},
     "output_type": "execute_result"
    }
   ],
   "source": [
    "df_sp500_data = pd.read_csv(\"sp500_data.csv\", index_col=0, parse_dates=True)\n",
    "df_sp500_data.head()"
   ]
  },
  {
   "cell_type": "code",
   "execution_count": null,
   "metadata": {},
   "outputs": [],
   "source": []
  },
  {
   "cell_type": "code",
   "execution_count": 3,
   "metadata": {},
   "outputs": [
    {
     "data": {
      "text/html": [
       "<div>\n",
       "<style scoped>\n",
       "    .dataframe tbody tr th:only-of-type {\n",
       "        vertical-align: middle;\n",
       "    }\n",
       "\n",
       "    .dataframe tbody tr th {\n",
       "        vertical-align: top;\n",
       "    }\n",
       "\n",
       "    .dataframe thead th {\n",
       "        text-align: right;\n",
       "    }\n",
       "</style>\n",
       "<table border=\"1\" class=\"dataframe\">\n",
       "  <thead>\n",
       "    <tr style=\"text-align: right;\">\n",
       "      <th></th>\n",
       "      <th>CVX</th>\n",
       "      <th>XOM</th>\n",
       "    </tr>\n",
       "  </thead>\n",
       "  <tbody>\n",
       "    <tr>\n",
       "      <th>1993-01-29</th>\n",
       "      <td>0.072921</td>\n",
       "      <td>-0.016991</td>\n",
       "    </tr>\n",
       "    <tr>\n",
       "      <th>1993-02-01</th>\n",
       "      <td>0.102089</td>\n",
       "      <td>0.016991</td>\n",
       "    </tr>\n",
       "    <tr>\n",
       "      <th>1993-02-02</th>\n",
       "      <td>0.029168</td>\n",
       "      <td>0.084954</td>\n",
       "    </tr>\n",
       "    <tr>\n",
       "      <th>1993-02-03</th>\n",
       "      <td>0.058337</td>\n",
       "      <td>0.067964</td>\n",
       "    </tr>\n",
       "    <tr>\n",
       "      <th>1993-02-04</th>\n",
       "      <td>0.044272</td>\n",
       "      <td>0.034378</td>\n",
       "    </tr>\n",
       "  </tbody>\n",
       "</table>\n",
       "</div>"
      ],
      "text/plain": [
       "                 CVX       XOM\n",
       "1993-01-29  0.072921 -0.016991\n",
       "1993-02-01  0.102089  0.016991\n",
       "1993-02-02  0.029168  0.084954\n",
       "1993-02-03  0.058337  0.067964\n",
       "1993-02-04  0.044272  0.034378"
      ]
     },
     "execution_count": 3,
     "metadata": {},
     "output_type": "execute_result"
    }
   ],
   "source": [
    "X1 = df_sp500_data[[\"CVX\", \"XOM\"]]\n",
    "X1.head()"
   ]
  },
  {
   "cell_type": "code",
   "execution_count": 4,
   "metadata": {},
   "outputs": [
    {
     "data": {
      "text/plain": [
       "PCA(copy=True, iterated_power='auto', n_components=None, random_state=None,\n",
       "    svd_solver='auto', tol=0.0, whiten=False)"
      ]
     },
     "execution_count": 4,
     "metadata": {},
     "output_type": "execute_result"
    }
   ],
   "source": [
    "from sklearn.decomposition import PCA\n",
    "pca = PCA()\n",
    "pca"
   ]
  },
  {
   "cell_type": "code",
   "execution_count": 5,
   "metadata": {},
   "outputs": [
    {
     "data": {
      "text/plain": [
       "array([[-0.02766642, -0.07261135],\n",
       "       [-0.07204617, -0.06661206],\n",
       "       [-0.06274305,  0.03263485],\n",
       "       ...,\n",
       "       [ 0.77355434,  0.35513294],\n",
       "       [ 1.10661901,  0.23653274],\n",
       "       [ 0.7772994 , -0.55171085]])"
      ]
     },
     "execution_count": 5,
     "metadata": {},
     "output_type": "execute_result"
    }
   ],
   "source": [
    "pca.fit_transform(X1.values)"
   ]
  },
  {
   "cell_type": "code",
   "execution_count": 6,
   "metadata": {},
   "outputs": [
    {
     "data": {
      "text/plain": [
       "array([[-0.74710069, -0.66471089],\n",
       "       [-0.66471089,  0.74710069]])"
      ]
     },
     "execution_count": 6,
     "metadata": {},
     "output_type": "execute_result"
    }
   ],
   "source": [
    "pca.components_"
   ]
  },
  {
   "cell_type": "code",
   "execution_count": 7,
   "metadata": {},
   "outputs": [
    {
     "data": {
      "image/png": "[encoded data removed]",
      "text/plain": [
       "<Figure size 432x288 with 1 Axes>"
      ]
     },
     "metadata": {
      "needs_background": "light"
     },
     "output_type": "display_data"
    }
   ],
   "source": [
    "def abline(slope, intercept):\n",
    "    \"\"\"Plot a line from slope and intercept\"\"\"\n",
    "    axes = plt.gca()\n",
    "    x_vals = np.array(axes.get_xlim())\n",
    "    y_vals = intercept + slope * x_vals\n",
    "    plt.plot(x_vals, y_vals, '--', color=\"k\") \n",
    "\n",
    "plt.scatter(X1[\"CVX\"], X1[\"XOM\"], facecolor=\"lightgrey\", edgecolor=\"k\")\n",
    "abline(pca.components_[1,0]/pca.components_[0,0] ,0)\n",
    "abline(pca.components_[1,1]/pca.components_[0,1] ,0)\n",
    "#circle = plt.Circle(, radius=, edgecolor='k', facecolor=\"none\")\n",
    "#ax.add_artist(circle)"
   ]
  },
  {
   "cell_type": "code",
   "execution_count": 8,
   "metadata": {},
   "outputs": [
    {
     "data": {
      "text/html": [
       "<div>\n",
       "<style scoped>\n",
       "    .dataframe tbody tr th:only-of-type {\n",
       "        vertical-align: middle;\n",
       "    }\n",
       "\n",
       "    .dataframe tbody tr th {\n",
       "        vertical-align: top;\n",
       "    }\n",
       "\n",
       "    .dataframe thead th {\n",
       "        text-align: right;\n",
       "    }\n",
       "</style>\n",
       "<table border=\"1\" class=\"dataframe\">\n",
       "  <thead>\n",
       "    <tr style=\"text-align: right;\">\n",
       "      <th></th>\n",
       "      <th>AAPL</th>\n",
       "      <th>MSFT</th>\n",
       "      <th>CSCO</th>\n",
       "      <th>INTC</th>\n",
       "      <th>CVX</th>\n",
       "      <th>XOM</th>\n",
       "      <th>SLB</th>\n",
       "      <th>COP</th>\n",
       "      <th>JPM</th>\n",
       "      <th>WFC</th>\n",
       "      <th>USB</th>\n",
       "      <th>AXP</th>\n",
       "      <th>WMT</th>\n",
       "      <th>TGT</th>\n",
       "      <th>HD</th>\n",
       "      <th>COST</th>\n",
       "    </tr>\n",
       "  </thead>\n",
       "  <tbody>\n",
       "    <tr>\n",
       "      <th>2004-01-02</th>\n",
       "      <td>-0.018120</td>\n",
       "      <td>-0.092718</td>\n",
       "      <td>-0.098190</td>\n",
       "      <td>-0.147609</td>\n",
       "      <td>-0.201985</td>\n",
       "      <td>-0.298344</td>\n",
       "      <td>-0.025816</td>\n",
       "      <td>0.002606</td>\n",
       "      <td>0.044120</td>\n",
       "      <td>-0.120303</td>\n",
       "      <td>-0.304366</td>\n",
       "      <td>-0.503106</td>\n",
       "      <td>-0.834631</td>\n",
       "      <td>-0.603707</td>\n",
       "      <td>-0.556631</td>\n",
       "      <td>-0.694440</td>\n",
       "    </tr>\n",
       "    <tr>\n",
       "      <th>2004-01-05</th>\n",
       "      <td>0.050320</td>\n",
       "      <td>0.292419</td>\n",
       "      <td>0.330272</td>\n",
       "      <td>0.287836</td>\n",
       "      <td>0.342344</td>\n",
       "      <td>0.367196</td>\n",
       "      <td>0.563647</td>\n",
       "      <td>0.305002</td>\n",
       "      <td>-0.080890</td>\n",
       "      <td>0.000000</td>\n",
       "      <td>-0.226504</td>\n",
       "      <td>0.066590</td>\n",
       "      <td>-0.540524</td>\n",
       "      <td>-0.289447</td>\n",
       "      <td>-0.030501</td>\n",
       "      <td>-0.231478</td>\n",
       "    </tr>\n",
       "    <tr>\n",
       "      <th>2004-01-06</th>\n",
       "      <td>-0.010737</td>\n",
       "      <td>0.035660</td>\n",
       "      <td>0.205304</td>\n",
       "      <td>-0.014758</td>\n",
       "      <td>0.154054</td>\n",
       "      <td>-0.168298</td>\n",
       "      <td>-0.275370</td>\n",
       "      <td>-0.059960</td>\n",
       "      <td>0.235313</td>\n",
       "      <td>0.040099</td>\n",
       "      <td>-0.084939</td>\n",
       "      <td>0.221948</td>\n",
       "      <td>0.786940</td>\n",
       "      <td>0.554086</td>\n",
       "      <td>0.244002</td>\n",
       "      <td>0.367178</td>\n",
       "    </tr>\n",
       "    <tr>\n",
       "      <th>2004-01-07</th>\n",
       "      <td>0.032877</td>\n",
       "      <td>0.028528</td>\n",
       "      <td>0.348124</td>\n",
       "      <td>0.487108</td>\n",
       "      <td>-0.304686</td>\n",
       "      <td>-0.061200</td>\n",
       "      <td>-0.477595</td>\n",
       "      <td>0.044311</td>\n",
       "      <td>0.382384</td>\n",
       "      <td>-0.036456</td>\n",
       "      <td>0.148643</td>\n",
       "      <td>-0.036987</td>\n",
       "      <td>0.111284</td>\n",
       "      <td>-0.066158</td>\n",
       "      <td>0.350756</td>\n",
       "      <td>0.399104</td>\n",
       "    </tr>\n",
       "    <tr>\n",
       "      <th>2004-01-08</th>\n",
       "      <td>0.034887</td>\n",
       "      <td>-0.164040</td>\n",
       "      <td>0.446314</td>\n",
       "      <td>0.051666</td>\n",
       "      <td>0.188290</td>\n",
       "      <td>-0.007648</td>\n",
       "      <td>0.365725</td>\n",
       "      <td>0.273717</td>\n",
       "      <td>0.419152</td>\n",
       "      <td>-0.010936</td>\n",
       "      <td>-0.021236</td>\n",
       "      <td>-0.170168</td>\n",
       "      <td>-0.699502</td>\n",
       "      <td>-1.108175</td>\n",
       "      <td>-0.221128</td>\n",
       "      <td>-0.111752</td>\n",
       "    </tr>\n",
       "  </tbody>\n",
       "</table>\n",
       "</div>"
      ],
      "text/plain": [
       "                AAPL      MSFT      CSCO      INTC       CVX       XOM  \\\n",
       "2004-01-02 -0.018120 -0.092718 -0.098190 -0.147609 -0.201985 -0.298344   \n",
       "2004-01-05  0.050320  0.292419  0.330272  0.287836  0.342344  0.367196   \n",
       "2004-01-06 -0.010737  0.035660  0.205304 -0.014758  0.154054 -0.168298   \n",
       "2004-01-07  0.032877  0.028528  0.348124  0.487108 -0.304686 -0.061200   \n",
       "2004-01-08  0.034887 -0.164040  0.446314  0.051666  0.188290 -0.007648   \n",
       "\n",
       "                 SLB       COP       JPM       WFC       USB       AXP  \\\n",
       "2004-01-02 -0.025816  0.002606  0.044120 -0.120303 -0.304366 -0.503106   \n",
       "2004-01-05  0.563647  0.305002 -0.080890  0.000000 -0.226504  0.066590   \n",
       "2004-01-06 -0.275370 -0.059960  0.235313  0.040099 -0.084939  0.221948   \n",
       "2004-01-07 -0.477595  0.044311  0.382384 -0.036456  0.148643 -0.036987   \n",
       "2004-01-08  0.365725  0.273717  0.419152 -0.010936 -0.021236 -0.170168   \n",
       "\n",
       "                 WMT       TGT        HD      COST  \n",
       "2004-01-02 -0.834631 -0.603707 -0.556631 -0.694440  \n",
       "2004-01-05 -0.540524 -0.289447 -0.030501 -0.231478  \n",
       "2004-01-06  0.786940  0.554086  0.244002  0.367178  \n",
       "2004-01-07  0.111284 -0.066158  0.350756  0.399104  \n",
       "2004-01-08 -0.699502 -1.108175 -0.221128 -0.111752  "
      ]
     },
     "execution_count": 8,
     "metadata": {},
     "output_type": "execute_result"
    }
   ],
   "source": [
    "X2 = df_sp500_data[['AAPL', 'MSFT', 'CSCO', 'INTC', 'CVX', 'XOM', 'SLB', 'COP', 'JPM', 'WFC', 'USB', 'AXP', 'WMT', 'TGT', 'HD', 'COST']]\n",
    "x2_top = X2.loc[\"2004-01-01\":]\n",
    "x2_top.head()"
   ]
  },
  {
   "cell_type": "code",
   "execution_count": 9,
   "metadata": {},
   "outputs": [
    {
     "data": {
      "text/plain": [
       "PCA(copy=True, iterated_power='auto', n_components=10, random_state=None,\n",
       "    svd_solver='auto', tol=0.0, whiten=False)"
      ]
     },
     "execution_count": 9,
     "metadata": {},
     "output_type": "execute_result"
    }
   ],
   "source": [
    "pca1 = PCA(10)\n",
    "pca1\n"
   ]
  },
  {
   "cell_type": "code",
   "execution_count": 10,
   "metadata": {},
   "outputs": [
    {
     "data": {
      "text/plain": [
       "PCA(copy=True, iterated_power='auto', n_components=10, random_state=None,\n",
       "    svd_solver='auto', tol=0.0, whiten=False)"
      ]
     },
     "execution_count": 10,
     "metadata": {},
     "output_type": "execute_result"
    }
   ],
   "source": [
    "pca1.fit(x2_top.values)"
   ]
  },
  {
   "cell_type": "code",
   "execution_count": 11,
   "metadata": {},
   "outputs": [
    {
     "data": {
      "text/plain": [
       "Text(0.5, 1.0, 'PCA Scree Plot')"
      ]
     },
     "execution_count": 11,
     "metadata": {},
     "output_type": "execute_result"
    },
    {
     "data": {
      "image/png": "[encoded data removed]",
      "text/plain": [
       "<Figure size 720x504 with 1 Axes>"
      ]
     },
     "metadata": {
      "needs_background": "light"
     },
     "output_type": "display_data"
    }
   ],
   "source": [
    "pct_variance = np.round(pca1.explained_variance_ratio_* 100, decimals =2)\n",
    "components = [\"comp.\"+str(x) for x in range(1, 11)]\n",
    "\n",
    "plt.figure(figsize=(10, 7))\n",
    "plt.bar(x= components, height=pct_variance)\n",
    "plt.ylabel('Percentate of Variance Explained')\n",
    "plt.xlabel('Principal Component')\n",
    "plt.title('PCA Scree Plot')"
   ]
  },
  {
   "cell_type": "code",
   "execution_count": 12,
   "metadata": {},
   "outputs": [],
   "source": [
    "#facet grid by weights"
   ]
  },
  {
   "cell_type": "code",
   "execution_count": 13,
   "metadata": {},
   "outputs": [
    {
     "data": {
      "text/html": [
       "<div>\n",
       "<style scoped>\n",
       "    .dataframe tbody tr th:only-of-type {\n",
       "        vertical-align: middle;\n",
       "    }\n",
       "\n",
       "    .dataframe tbody tr th {\n",
       "        vertical-align: top;\n",
       "    }\n",
       "\n",
       "    .dataframe thead th {\n",
       "        text-align: right;\n",
       "    }\n",
       "</style>\n",
       "<table border=\"1\" class=\"dataframe\">\n",
       "  <thead>\n",
       "    <tr style=\"text-align: right;\">\n",
       "      <th></th>\n",
       "      <th>CVX</th>\n",
       "      <th>XOM</th>\n",
       "    </tr>\n",
       "  </thead>\n",
       "  <tbody>\n",
       "    <tr>\n",
       "      <th>2011-01-03</th>\n",
       "      <td>0.240681</td>\n",
       "      <td>0.736805</td>\n",
       "    </tr>\n",
       "    <tr>\n",
       "      <th>2011-01-04</th>\n",
       "      <td>-0.584516</td>\n",
       "      <td>0.168668</td>\n",
       "    </tr>\n",
       "    <tr>\n",
       "      <th>2011-01-05</th>\n",
       "      <td>0.446985</td>\n",
       "      <td>0.026631</td>\n",
       "    </tr>\n",
       "    <tr>\n",
       "      <th>2011-01-06</th>\n",
       "      <td>-0.919751</td>\n",
       "      <td>0.248558</td>\n",
       "    </tr>\n",
       "    <tr>\n",
       "      <th>2011-01-07</th>\n",
       "      <td>0.180511</td>\n",
       "      <td>0.337329</td>\n",
       "    </tr>\n",
       "  </tbody>\n",
       "</table>\n",
       "</div>"
      ],
      "text/plain": [
       "                 CVX       XOM\n",
       "2011-01-03  0.240681  0.736805\n",
       "2011-01-04 -0.584516  0.168668\n",
       "2011-01-05  0.446985  0.026631\n",
       "2011-01-06 -0.919751  0.248558\n",
       "2011-01-07  0.180511  0.337329"
      ]
     },
     "execution_count": 13,
     "metadata": {},
     "output_type": "execute_result"
    }
   ],
   "source": [
    "X2 = X1['2011-01-01':]\n",
    "X2.head()"
   ]
  },
  {
   "cell_type": "code",
   "execution_count": 14,
   "metadata": {},
   "outputs": [
    {
     "data": {
      "text/plain": [
       "KMeans(algorithm='auto', copy_x=True, init='k-means++', max_iter=300,\n",
       "       n_clusters=4, n_init=10, n_jobs=None, precompute_distances='auto',\n",
       "       random_state=None, tol=0.0001, verbose=0)"
      ]
     },
     "execution_count": 14,
     "metadata": {},
     "output_type": "execute_result"
    }
   ],
   "source": [
    "from sklearn.cluster import KMeans\n",
    "km = KMeans(n_clusters=4)\n",
    "km"
   ]
  },
  {
   "cell_type": "code",
   "execution_count": 15,
   "metadata": {},
   "outputs": [
    {
     "data": {
      "text/plain": [
       "array([2, 1, 2, ..., 1, 1, 1])"
      ]
     },
     "execution_count": 15,
     "metadata": {},
     "output_type": "execute_result"
    }
   ],
   "source": [
    "cls = km.fit_predict(X2.values)\n",
    "cls"
   ]
  },
  {
   "cell_type": "code",
   "execution_count": 16,
   "metadata": {},
   "outputs": [
    {
     "name": "stderr",
     "output_type": "stream",
     "text": [
      "c:\\users\\abhishek\\appdata\\local\\programs\\python\\python36\\lib\\site-packages\\ipykernel_launcher.py:1: SettingWithCopyWarning: \n",
      "A value is trying to be set on a copy of a slice from a DataFrame.\n",
      "Try using .loc[row_indexer,col_indexer] = value instead\n",
      "\n",
      "See the caveats in the documentation: http://pandas.pydata.org/pandas-docs/stable/user_guide/indexing.html#returning-a-view-versus-a-copy\n",
      "  \"\"\"Entry point for launching an IPython kernel.\n"
     ]
    },
    {
     "data": {
      "text/html": [
       "<div>\n",
       "<style scoped>\n",
       "    .dataframe tbody tr th:only-of-type {\n",
       "        vertical-align: middle;\n",
       "    }\n",
       "\n",
       "    .dataframe tbody tr th {\n",
       "        vertical-align: top;\n",
       "    }\n",
       "\n",
       "    .dataframe thead th {\n",
       "        text-align: right;\n",
       "    }\n",
       "</style>\n",
       "<table border=\"1\" class=\"dataframe\">\n",
       "  <thead>\n",
       "    <tr style=\"text-align: right;\">\n",
       "      <th></th>\n",
       "      <th>CVX</th>\n",
       "      <th>XOM</th>\n",
       "      <th>CLASS</th>\n",
       "    </tr>\n",
       "  </thead>\n",
       "  <tbody>\n",
       "    <tr>\n",
       "      <th>2011-01-03</th>\n",
       "      <td>0.240681</td>\n",
       "      <td>0.736805</td>\n",
       "      <td>2</td>\n",
       "    </tr>\n",
       "    <tr>\n",
       "      <th>2011-01-04</th>\n",
       "      <td>-0.584516</td>\n",
       "      <td>0.168668</td>\n",
       "      <td>1</td>\n",
       "    </tr>\n",
       "    <tr>\n",
       "      <th>2011-01-05</th>\n",
       "      <td>0.446985</td>\n",
       "      <td>0.026631</td>\n",
       "      <td>2</td>\n",
       "    </tr>\n",
       "    <tr>\n",
       "      <th>2011-01-06</th>\n",
       "      <td>-0.919751</td>\n",
       "      <td>0.248558</td>\n",
       "      <td>1</td>\n",
       "    </tr>\n",
       "    <tr>\n",
       "      <th>2011-01-07</th>\n",
       "      <td>0.180511</td>\n",
       "      <td>0.337329</td>\n",
       "      <td>2</td>\n",
       "    </tr>\n",
       "  </tbody>\n",
       "</table>\n",
       "</div>"
      ],
      "text/plain": [
       "                 CVX       XOM  CLASS\n",
       "2011-01-03  0.240681  0.736805      2\n",
       "2011-01-04 -0.584516  0.168668      1\n",
       "2011-01-05  0.446985  0.026631      2\n",
       "2011-01-06 -0.919751  0.248558      1\n",
       "2011-01-07  0.180511  0.337329      2"
      ]
     },
     "execution_count": 16,
     "metadata": {},
     "output_type": "execute_result"
    }
   ],
   "source": [
    "X2[\"CLASS\"] = cls\n",
    "X2.head()"
   ]
  },
  {
   "cell_type": "code",
   "execution_count": 17,
   "metadata": {},
   "outputs": [
    {
     "data": {
      "text/plain": [
       "<matplotlib.legend.Legend at 0x2950a6f29e8>"
      ]
     },
     "execution_count": 17,
     "metadata": {},
     "output_type": "execute_result"
    },
    {
     "data": {
      "image/png": "[encoded data removed]",
      "text/plain": [
       "<Figure size 1080x576 with 1 Axes>"
      ]
     },
     "metadata": {
      "needs_background": "light"
     },
     "output_type": "display_data"
    }
   ],
   "source": [
    "cl_cent = km.cluster_centers_\n",
    "\n",
    "plt.figure(figsize=(15, 8))\n",
    "plt.scatter(X2[X2['CLASS']==0][\"XOM\"], X2[X2['CLASS']==0][\"CVX\"], marker=\"o\", edgecolor=\"red\", s=50, facecolor=\"none\", linewidth=0.5)\n",
    "plt.scatter(X2[X2['CLASS']==1][\"XOM\"], X2[X2['CLASS']==1][\"CVX\"], marker=\"^\", edgecolor=\"green\",s=50, facecolor=\"none\", linewidth=0.5)\n",
    "plt.scatter(X2[X2['CLASS']==2][\"XOM\"], X2[X2['CLASS']==2][\"CVX\"], marker=\"+\", color=\"violet\", s=50, linewidth=0.5)\n",
    "plt.scatter(X2[X2['CLASS']==3][\"XOM\"], X2[X2['CLASS']==3][\"CVX\"], marker=\"x\", color=\"cyan\", s=50, linewidth=0.5)\n",
    "plt.scatter(cl_cent[0][0], cl_cent[0][1], marker=\"o\", linewidth=4, color=\"red\", s=200, label=1)\n",
    "plt.scatter(cl_cent[1][0], cl_cent[1][1], marker=\"^\", linewidth=4, color=\"green\", s=200, label=2)\n",
    "plt.scatter(cl_cent[2][0], cl_cent[2][1], marker=\"+\", linewidth=4, color=\"violet\", s=200, label=3)\n",
    "plt.scatter(cl_cent[3][0], cl_cent[3][1], marker=\"x\", linewidth=4, color=\"cyan\", s=200, label=4)\n",
    "plt.legend()"
   ]
  },
  {
   "cell_type": "code",
   "execution_count": 18,
   "metadata": {},
   "outputs": [
    {
     "data": {
      "text/html": [
       "<div>\n",
       "<style scoped>\n",
       "    .dataframe tbody tr th:only-of-type {\n",
       "        vertical-align: middle;\n",
       "    }\n",
       "\n",
       "    .dataframe tbody tr th {\n",
       "        vertical-align: top;\n",
       "    }\n",
       "\n",
       "    .dataframe thead th {\n",
       "        text-align: right;\n",
       "    }\n",
       "</style>\n",
       "<table border=\"1\" class=\"dataframe\">\n",
       "  <thead>\n",
       "    <tr style=\"text-align: right;\">\n",
       "      <th></th>\n",
       "      <th>AAPL</th>\n",
       "      <th>MSFT</th>\n",
       "      <th>CSCO</th>\n",
       "      <th>INTC</th>\n",
       "      <th>CVX</th>\n",
       "      <th>XOM</th>\n",
       "      <th>SLB</th>\n",
       "      <th>COP</th>\n",
       "      <th>JPM</th>\n",
       "      <th>WFC</th>\n",
       "      <th>USB</th>\n",
       "      <th>AXP</th>\n",
       "      <th>WMT</th>\n",
       "      <th>TGT</th>\n",
       "      <th>HD</th>\n",
       "      <th>COST</th>\n",
       "    </tr>\n",
       "  </thead>\n",
       "  <tbody>\n",
       "    <tr>\n",
       "      <th>2011-01-03</th>\n",
       "      <td>0.527368</td>\n",
       "      <td>-0.061805</td>\n",
       "      <td>0.035704</td>\n",
       "      <td>-0.137211</td>\n",
       "      <td>0.240681</td>\n",
       "      <td>0.736805</td>\n",
       "      <td>-0.325923</td>\n",
       "      <td>-0.336272</td>\n",
       "      <td>0.512093</td>\n",
       "      <td>0.250042</td>\n",
       "      <td>-0.234866</td>\n",
       "      <td>0.093870</td>\n",
       "      <td>0.294839</td>\n",
       "      <td>0.455646</td>\n",
       "      <td>0.099184</td>\n",
       "      <td>-0.240605</td>\n",
       "    </tr>\n",
       "    <tr>\n",
       "      <th>2011-01-04</th>\n",
       "      <td>-0.154321</td>\n",
       "      <td>0.132440</td>\n",
       "      <td>0.008926</td>\n",
       "      <td>0.025726</td>\n",
       "      <td>-0.584516</td>\n",
       "      <td>0.168668</td>\n",
       "      <td>-2.030049</td>\n",
       "      <td>-0.463161</td>\n",
       "      <td>0.335894</td>\n",
       "      <td>0.000000</td>\n",
       "      <td>-0.153566</td>\n",
       "      <td>-0.431788</td>\n",
       "      <td>0.142951</td>\n",
       "      <td>-0.580720</td>\n",
       "      <td>-0.541005</td>\n",
       "      <td>-0.171859</td>\n",
       "    </tr>\n",
       "    <tr>\n",
       "      <th>2011-01-05</th>\n",
       "      <td>0.597152</td>\n",
       "      <td>0.088294</td>\n",
       "      <td>0.169599</td>\n",
       "      <td>-0.214392</td>\n",
       "      <td>0.446985</td>\n",
       "      <td>0.026631</td>\n",
       "      <td>1.536499</td>\n",
       "      <td>-0.057104</td>\n",
       "      <td>0.689468</td>\n",
       "      <td>0.857284</td>\n",
       "      <td>0.198732</td>\n",
       "      <td>0.895406</td>\n",
       "      <td>-0.303772</td>\n",
       "      <td>-0.482448</td>\n",
       "      <td>-0.054099</td>\n",
       "      <td>-0.859307</td>\n",
       "    </tr>\n",
       "    <tr>\n",
       "      <th>2011-01-06</th>\n",
       "      <td>-0.132850</td>\n",
       "      <td>0.688689</td>\n",
       "      <td>0.035706</td>\n",
       "      <td>0.085757</td>\n",
       "      <td>-0.919751</td>\n",
       "      <td>0.248558</td>\n",
       "      <td>-1.927614</td>\n",
       "      <td>-0.463161</td>\n",
       "      <td>0.070713</td>\n",
       "      <td>0.000000</td>\n",
       "      <td>-0.532962</td>\n",
       "      <td>-0.612646</td>\n",
       "      <td>-0.312709</td>\n",
       "      <td>-0.786210</td>\n",
       "      <td>-0.189354</td>\n",
       "      <td>0.249200</td>\n",
       "    </tr>\n",
       "    <tr>\n",
       "      <th>2011-01-07</th>\n",
       "      <td>0.285820</td>\n",
       "      <td>-0.035317</td>\n",
       "      <td>0.098187</td>\n",
       "      <td>-0.042878</td>\n",
       "      <td>0.180511</td>\n",
       "      <td>0.337329</td>\n",
       "      <td>0.931215</td>\n",
       "      <td>-0.006350</td>\n",
       "      <td>-0.795539</td>\n",
       "      <td>-0.651894</td>\n",
       "      <td>-0.171633</td>\n",
       "      <td>-0.537242</td>\n",
       "      <td>0.169758</td>\n",
       "      <td>-0.089345</td>\n",
       "      <td>-0.036064</td>\n",
       "      <td>-0.257788</td>\n",
       "    </tr>\n",
       "  </tbody>\n",
       "</table>\n",
       "</div>"
      ],
      "text/plain": [
       "                AAPL      MSFT      CSCO      INTC       CVX       XOM  \\\n",
       "2011-01-03  0.527368 -0.061805  0.035704 -0.137211  0.240681  0.736805   \n",
       "2011-01-04 -0.154321  0.132440  0.008926  0.025726 -0.584516  0.168668   \n",
       "2011-01-05  0.597152  0.088294  0.169599 -0.214392  0.446985  0.026631   \n",
       "2011-01-06 -0.132850  0.688689  0.035706  0.085757 -0.919751  0.248558   \n",
       "2011-01-07  0.285820 -0.035317  0.098187 -0.042878  0.180511  0.337329   \n",
       "\n",
       "                 SLB       COP       JPM       WFC       USB       AXP  \\\n",
       "2011-01-03 -0.325923 -0.336272  0.512093  0.250042 -0.234866  0.093870   \n",
       "2011-01-04 -2.030049 -0.463161  0.335894  0.000000 -0.153566 -0.431788   \n",
       "2011-01-05  1.536499 -0.057104  0.689468  0.857284  0.198732  0.895406   \n",
       "2011-01-06 -1.927614 -0.463161  0.070713  0.000000 -0.532962 -0.612646   \n",
       "2011-01-07  0.931215 -0.006350 -0.795539 -0.651894 -0.171633 -0.537242   \n",
       "\n",
       "                 WMT       TGT        HD      COST  \n",
       "2011-01-03  0.294839  0.455646  0.099184 -0.240605  \n",
       "2011-01-04  0.142951 -0.580720 -0.541005 -0.171859  \n",
       "2011-01-05 -0.303772 -0.482448 -0.054099 -0.859307  \n",
       "2011-01-06 -0.312709 -0.786210 -0.189354  0.249200  \n",
       "2011-01-07  0.169758 -0.089345 -0.036064 -0.257788  "
      ]
     },
     "execution_count": 18,
     "metadata": {},
     "output_type": "execute_result"
    }
   ],
   "source": [
    "X3 = df_sp500_data[['AAPL', 'MSFT', 'CSCO', 'INTC', 'CVX', 'XOM', 'SLB', 'COP', 'JPM', 'WFC', 'USB', 'AXP', 'WMT', 'TGT', 'HD', 'COST']]\n",
    "x3_top = X3.loc[\"2011-01-01\":]\n",
    "x3_top.head()"
   ]
  },
  {
   "cell_type": "code",
   "execution_count": 19,
   "metadata": {},
   "outputs": [
    {
     "data": {
      "text/plain": [
       "KMeans(algorithm='auto', copy_x=True, init='k-means++', max_iter=300,\n",
       "       n_clusters=5, n_init=10, n_jobs=None, precompute_distances='auto',\n",
       "       random_state=None, tol=0.0001, verbose=0)"
      ]
     },
     "execution_count": 19,
     "metadata": {},
     "output_type": "execute_result"
    }
   ],
   "source": [
    "km2 = KMeans(n_init=10, n_clusters=5)\n",
    "km2"
   ]
  },
  {
   "cell_type": "code",
   "execution_count": 20,
   "metadata": {},
   "outputs": [
    {
     "data": {
      "text/plain": [
       "array([4, 0, 2, ..., 3, 0, 0])"
      ]
     },
     "execution_count": 20,
     "metadata": {},
     "output_type": "execute_result"
    }
   ],
   "source": [
    "cls1 = km2.fit_predict(x3_top.values)\n",
    "cls1"
   ]
  },
  {
   "cell_type": "code",
   "execution_count": 21,
   "metadata": {},
   "outputs": [
    {
     "data": {
      "text/plain": [
       "(array([0, 1, 2, 3, 4]), array([250, 187, 302, 103, 289], dtype=int64))"
      ]
     },
     "execution_count": 21,
     "metadata": {},
     "output_type": "execute_result"
    }
   ],
   "source": [
    "labels, counts = np.unique(cls1, return_counts=True)\n",
    "labels, counts"
   ]
  },
  {
   "cell_type": "code",
   "execution_count": 22,
   "metadata": {},
   "outputs": [],
   "source": [
    "#Figure 7-5. The means of the variables in each cluster (“cluster means”)"
   ]
  },
  {
   "cell_type": "code",
   "execution_count": 23,
   "metadata": {},
   "outputs": [
    {
     "data": {
      "image/png": "[encoded data removed]",
      "text/plain": [
       "<Figure size 432x288 with 1 Axes>"
      ]
     },
     "metadata": {
      "needs_background": "light"
     },
     "output_type": "display_data"
    }
   ],
   "source": [
    "from scipy.spatial.distance import cdist, pdist\n",
    "\n",
    "def elbow(df, n):\n",
    "    kMeansVar = [KMeans(n_clusters=k).fit(df.values) for k in range(2, n+1)]\n",
    "    centroids = [X.cluster_centers_ for X in kMeansVar]\n",
    "    k_euclid = [cdist(df.values, cent) for cent in centroids]\n",
    "    dist = [np.min(ke, axis=1) for ke in k_euclid]\n",
    "    wcss = [sum(d**2) for d in dist]\n",
    "    tss = sum(pdist(df.values)**2)/df.values.shape[0]\n",
    "    bss = tss - wcss\n",
    "    plt.plot(bss)\n",
    "    plt.show()\n",
    "\n",
    "elbow(X2.drop([\"CLASS\"], axis=1), 15)\n"
   ]
  },
  {
   "cell_type": "markdown",
   "metadata": {},
   "source": [
    "#Hierarichal cluster on \n",
    "    OOGL', 'AMZN', 'AAPL', 'MSFT', 'CSCO', 'INTC', 'CVX', \n",
    "           'XOM', 'SLB', 'COP', 'JPM', 'WFC', 'USB', 'AXP',\n",
    "           'WMT', 'TGT', 'HD', 'COST')\n",
    "\n",
    "df <- sp500_px[row.names(sp500_px)>='2011-01-01', syms1]\n",
    "\n",
    "#Typesof hierarichal cluster on CVX XOM >2011-01-01\n",
    "#model based cluster on CVX XOM >2011-01-01"
   ]
  },
  {
   "cell_type": "code",
   "execution_count": 25,
   "metadata": {},
   "outputs": [],
   "source": [
    "from scipy.cluster.hierarchy import dendrogram, linkage"
   ]
  },
  {
   "cell_type": "code",
   "execution_count": 32,
   "metadata": {},
   "outputs": [
    {
     "data": {
      "text/plain": [
       "(1131, 18)"
      ]
     },
     "execution_count": 32,
     "metadata": {},
     "output_type": "execute_result"
    }
   ],
   "source": [
    "X4 = df_sp500_data[['GOOGL', 'AMZN', 'AAPL', 'MSFT', 'CSCO', 'INTC', 'CVX', 'XOM', 'SLB', 'COP', 'JPM', 'WFC', 'USB', 'AXP', 'WMT', 'TGT', 'HD', 'COST']]\n",
    "X4 = X4['2011-01-01':]\n",
    "X4.shape"
   ]
  },
  {
   "cell_type": "code",
   "execution_count": 44,
   "metadata": {},
   "outputs": [
    {
     "data": {
      "image/png": "[encoded data removed]",
      "text/plain": [
       "<Figure size 720x504 with 1 Axes>"
      ]
     },
     "metadata": {
      "needs_background": "light"
     },
     "output_type": "display_data"
    }
   ],
   "source": [
    "import scipy.cluster.hierarchy as shc\n",
    "\n",
    "linked = shc.linkage(X4.T, method='complete')\n",
    "\n",
    "labelList = X4.columns\n",
    "\n",
    "plt.figure(figsize=(10, 7))\n",
    "dendo = shc.dendrogram(linked, labels=labelList)"
   ]
  },
  {
   "cell_type": "code",
   "execution_count": 45,
   "metadata": {},
   "outputs": [],
   "source": [
    "from sklearn.cluster import AgglomerativeClustering"
   ]
  },
  {
   "cell_type": "code",
   "execution_count": 48,
   "metadata": {},
   "outputs": [
    {
     "data": {
      "text/html": [
       "<div>\n",
       "<style scoped>\n",
       "    .dataframe tbody tr th:only-of-type {\n",
       "        vertical-align: middle;\n",
       "    }\n",
       "\n",
       "    .dataframe tbody tr th {\n",
       "        vertical-align: top;\n",
       "    }\n",
       "\n",
       "    .dataframe thead th {\n",
       "        text-align: right;\n",
       "    }\n",
       "</style>\n",
       "<table border=\"1\" class=\"dataframe\">\n",
       "  <thead>\n",
       "    <tr style=\"text-align: right;\">\n",
       "      <th></th>\n",
       "      <th>CVX</th>\n",
       "      <th>XOM</th>\n",
       "    </tr>\n",
       "  </thead>\n",
       "  <tbody>\n",
       "    <tr>\n",
       "      <th>2011-01-03</th>\n",
       "      <td>0.240681</td>\n",
       "      <td>0.736805</td>\n",
       "    </tr>\n",
       "    <tr>\n",
       "      <th>2011-01-04</th>\n",
       "      <td>-0.584516</td>\n",
       "      <td>0.168668</td>\n",
       "    </tr>\n",
       "    <tr>\n",
       "      <th>2011-01-05</th>\n",
       "      <td>0.446985</td>\n",
       "      <td>0.026631</td>\n",
       "    </tr>\n",
       "    <tr>\n",
       "      <th>2011-01-06</th>\n",
       "      <td>-0.919751</td>\n",
       "      <td>0.248558</td>\n",
       "    </tr>\n",
       "    <tr>\n",
       "      <th>2011-01-07</th>\n",
       "      <td>0.180511</td>\n",
       "      <td>0.337329</td>\n",
       "    </tr>\n",
       "  </tbody>\n",
       "</table>\n",
       "</div>"
      ],
      "text/plain": [
       "                 CVX       XOM\n",
       "2011-01-03  0.240681  0.736805\n",
       "2011-01-04 -0.584516  0.168668\n",
       "2011-01-05  0.446985  0.026631\n",
       "2011-01-06 -0.919751  0.248558\n",
       "2011-01-07  0.180511  0.337329"
      ]
     },
     "execution_count": 48,
     "metadata": {},
     "output_type": "execute_result"
    }
   ],
   "source": [
    "X5 = X1['2011-01-01':]\n",
    "X5.head()"
   ]
  },
  {
   "cell_type": "code",
   "execution_count": 88,
   "metadata": {},
   "outputs": [
    {
     "data": {
      "text/plain": [
       "<matplotlib.legend.Legend at 0x2951355a828>"
      ]
     },
     "execution_count": 88,
     "metadata": {},
     "output_type": "execute_result"
    },
    {
     "data": {
      "image/png": "[encoded data removed]",
      "text/plain": [
       "<Figure size 1080x504 with 4 Axes>"
      ]
     },
     "metadata": {
      "needs_background": "light"
     },
     "output_type": "display_data"
    }
   ],
   "source": [
    "X5 = X1['2011-01-01':]\n",
    "\n",
    "fig, ax = plt.subplots(2, 2, figsize=(15, 7), sharex=True, sharey=True)\n",
    "\n",
    "cluster = AgglomerativeClustering(n_clusters=4, affinity='euclidean', linkage='ward')\n",
    "\n",
    "\n",
    "for (x, y, links) in zip([0, 0, 1, 1], [0, 1, 0, 1], [\"single\", \"average\", \"complete\", \"ward\"]):\n",
    "    cluster.set_params(linkage=links)\n",
    "    preds = cluster.fit_predict(X5)\n",
    "    X5[\"CLASS\"] = preds\n",
    "    ax[x][y].set_title(links)\n",
    "    ax[x][y].scatter(X5[X5['CLASS']==0][\"XOM\"], X5[X5['CLASS']==0][\"CVX\"], marker=\"o\", edgecolor=\"red\", s=50, facecolor=\"none\", linewidth=0.5, label=1)\n",
    "    ax[x][y].scatter(X5[X5['CLASS']==1][\"XOM\"], X5[X5['CLASS']==1][\"CVX\"], marker=\"^\", edgecolor=\"green\",s=50, facecolor=\"none\", linewidth=0.5, label=2)\n",
    "    ax[x][y].scatter(X5[X5['CLASS']==2][\"XOM\"], X5[X5['CLASS']==2][\"CVX\"], marker=\"+\", color=\"violet\", s=50, linewidth=0.5, label=3)\n",
    "    ax[x][y].scatter(X5[X5['CLASS']==3][\"XOM\"], X5[X5['CLASS']==3][\"CVX\"], marker=\"x\", color=\"cyan\", s=50, linewidth=0.5, label=4)\n",
    "\n",
    "fig.text(s='XOM', y=0.04,  x=0.5, ha='center')\n",
    "fig.text(s='CVX', x=0.04,  y=0.5, va='center', rotation='vertical')\n",
    "\n",
    "handles, labels = fig.gca().get_legend_handles_labels()\n",
    "by_label = dict(zip(labels, handles))\n",
    "fig.legend(by_label.values(), by_label.keys())\n",
    "    "
   ]
  },
  {
   "cell_type": "code",
   "execution_count": 81,
   "metadata": {},
   "outputs": [
    {
     "data": {
      "text/plain": [
       "<bound method Figure.get_axes of <Figure size 1080x504 with 4 Axes>>"
      ]
     },
     "execution_count": 81,
     "metadata": {},
     "output_type": "execute_result"
    }
   ],
   "source": [
    "#fig.legend?\n",
    "#fig.text?\n",
    "#fig.get_axes"
   ]
  },
  {
   "cell_type": "code",
   "execution_count": 89,
   "metadata": {},
   "outputs": [],
   "source": [
    "#Model based clustering"
   ]
  },
  {
   "cell_type": "code",
   "execution_count": 92,
   "metadata": {},
   "outputs": [
    {
     "data": {
      "text/plain": [
       "GaussianMixture(covariance_type='full', init_params='kmeans', max_iter=100,\n",
       "                means_init=None, n_components=2, n_init=1, precisions_init=None,\n",
       "                random_state=None, reg_covar=1e-06, tol=0.001, verbose=0,\n",
       "                verbose_interval=10, warm_start=False, weights_init=None)"
      ]
     },
     "execution_count": 92,
     "metadata": {},
     "output_type": "execute_result"
    }
   ],
   "source": [
    "from sklearn.mixture import GaussianMixture\n",
    "gmm = GaussianMixture(2)\n",
    "gmm"
   ]
  },
  {
   "cell_type": "code",
   "execution_count": 96,
   "metadata": {},
   "outputs": [
    {
     "data": {
      "text/plain": [
       "<matplotlib.legend.Legend at 0x29513b06b38>"
      ]
     },
     "execution_count": 96,
     "metadata": {},
     "output_type": "execute_result"
    },
    {
     "data": {
      "image/png": "[encoded data removed]",
      "text/plain": [
       "<Figure size 1080x504 with 1 Axes>"
      ]
     },
     "metadata": {
      "needs_background": "light"
     },
     "output_type": "display_data"
    }
   ],
   "source": [
    "preds = gmm.fit_predict(X5.drop([\"CLASS\"], axis=1).values)\n",
    "X5[\"CLASS\"] = preds\n",
    "plt.figure(figsize=(15, 7))\n",
    "plt.scatter(X5[X5[\"CLASS\"]==0][\"XOM\"], X5[X5[\"CLASS\"]==0][\"CVX\"], marker='.', color=\"red\", label=1)\n",
    "plt.scatter(X5[X5[\"CLASS\"]==1][\"XOM\"], X5[X5[\"CLASS\"]==1][\"CVX\"], marker='+', color=\"cyan\", label=2)\n",
    "plt.xlabel(\"XOM\")\n",
    "plt.ylabel(\"CVX\")\n",
    "plt.legend(title=\"cluster\")"
   ]
  },
  {
   "cell_type": "code",
   "execution_count": 98,
   "metadata": {},
   "outputs": [
    {
     "data": {
      "text/html": [
       "<div>\n",
       "<style scoped>\n",
       "    .dataframe tbody tr th:only-of-type {\n",
       "        vertical-align: middle;\n",
       "    }\n",
       "\n",
       "    .dataframe tbody tr th {\n",
       "        vertical-align: top;\n",
       "    }\n",
       "\n",
       "    .dataframe thead th {\n",
       "        text-align: right;\n",
       "    }\n",
       "</style>\n",
       "<table border=\"1\" class=\"dataframe\">\n",
       "  <thead>\n",
       "    <tr style=\"text-align: right;\">\n",
       "      <th></th>\n",
       "      <th>Unnamed: 0</th>\n",
       "      <th>status</th>\n",
       "      <th>loan_amnt</th>\n",
       "      <th>term</th>\n",
       "      <th>annual_inc</th>\n",
       "      <th>dti</th>\n",
       "      <th>payment_inc_ratio</th>\n",
       "      <th>revol_bal</th>\n",
       "      <th>revol_util</th>\n",
       "      <th>purpose</th>\n",
       "      <th>...</th>\n",
       "      <th>delinq_2yrs_zero</th>\n",
       "      <th>pub_rec_zero</th>\n",
       "      <th>open_acc</th>\n",
       "      <th>grade</th>\n",
       "      <th>outcome</th>\n",
       "      <th>emp_length</th>\n",
       "      <th>purpose_</th>\n",
       "      <th>home_</th>\n",
       "      <th>emp_len_</th>\n",
       "      <th>borrower_score</th>\n",
       "    </tr>\n",
       "  </thead>\n",
       "  <tbody>\n",
       "    <tr>\n",
       "      <th>0</th>\n",
       "      <td>1</td>\n",
       "      <td>Charged Off</td>\n",
       "      <td>2500</td>\n",
       "      <td>60 months</td>\n",
       "      <td>30000</td>\n",
       "      <td>1.00</td>\n",
       "      <td>2.39320</td>\n",
       "      <td>1687</td>\n",
       "      <td>9.4</td>\n",
       "      <td>car</td>\n",
       "      <td>...</td>\n",
       "      <td>1</td>\n",
       "      <td>1</td>\n",
       "      <td>3</td>\n",
       "      <td>4.8</td>\n",
       "      <td>default</td>\n",
       "      <td>1</td>\n",
       "      <td>major_purchase</td>\n",
       "      <td>RENT</td>\n",
       "      <td>&gt; 1 Year</td>\n",
       "      <td>0.65</td>\n",
       "    </tr>\n",
       "    <tr>\n",
       "      <th>1</th>\n",
       "      <td>2</td>\n",
       "      <td>Charged Off</td>\n",
       "      <td>5600</td>\n",
       "      <td>60 months</td>\n",
       "      <td>40000</td>\n",
       "      <td>5.55</td>\n",
       "      <td>4.57170</td>\n",
       "      <td>5210</td>\n",
       "      <td>32.6</td>\n",
       "      <td>small_business</td>\n",
       "      <td>...</td>\n",
       "      <td>1</td>\n",
       "      <td>1</td>\n",
       "      <td>11</td>\n",
       "      <td>1.4</td>\n",
       "      <td>default</td>\n",
       "      <td>5</td>\n",
       "      <td>small_business</td>\n",
       "      <td>OWN</td>\n",
       "      <td>&gt; 1 Year</td>\n",
       "      <td>0.80</td>\n",
       "    </tr>\n",
       "    <tr>\n",
       "      <th>2</th>\n",
       "      <td>3</td>\n",
       "      <td>Charged Off</td>\n",
       "      <td>5375</td>\n",
       "      <td>60 months</td>\n",
       "      <td>15000</td>\n",
       "      <td>18.08</td>\n",
       "      <td>9.71600</td>\n",
       "      <td>9279</td>\n",
       "      <td>36.5</td>\n",
       "      <td>other</td>\n",
       "      <td>...</td>\n",
       "      <td>1</td>\n",
       "      <td>1</td>\n",
       "      <td>2</td>\n",
       "      <td>6.0</td>\n",
       "      <td>default</td>\n",
       "      <td>1</td>\n",
       "      <td>other</td>\n",
       "      <td>RENT</td>\n",
       "      <td>&gt; 1 Year</td>\n",
       "      <td>0.60</td>\n",
       "    </tr>\n",
       "    <tr>\n",
       "      <th>3</th>\n",
       "      <td>4</td>\n",
       "      <td>Charged Off</td>\n",
       "      <td>9000</td>\n",
       "      <td>36 months</td>\n",
       "      <td>30000</td>\n",
       "      <td>10.08</td>\n",
       "      <td>12.21520</td>\n",
       "      <td>10452</td>\n",
       "      <td>91.7</td>\n",
       "      <td>debt_consolidation</td>\n",
       "      <td>...</td>\n",
       "      <td>1</td>\n",
       "      <td>1</td>\n",
       "      <td>4</td>\n",
       "      <td>4.2</td>\n",
       "      <td>default</td>\n",
       "      <td>1</td>\n",
       "      <td>debt_consolidation</td>\n",
       "      <td>RENT</td>\n",
       "      <td>&gt; 1 Year</td>\n",
       "      <td>0.50</td>\n",
       "    </tr>\n",
       "    <tr>\n",
       "      <th>4</th>\n",
       "      <td>5</td>\n",
       "      <td>Charged Off</td>\n",
       "      <td>10000</td>\n",
       "      <td>36 months</td>\n",
       "      <td>100000</td>\n",
       "      <td>7.06</td>\n",
       "      <td>3.90888</td>\n",
       "      <td>11997</td>\n",
       "      <td>55.5</td>\n",
       "      <td>other</td>\n",
       "      <td>...</td>\n",
       "      <td>1</td>\n",
       "      <td>1</td>\n",
       "      <td>14</td>\n",
       "      <td>5.4</td>\n",
       "      <td>default</td>\n",
       "      <td>4</td>\n",
       "      <td>other</td>\n",
       "      <td>RENT</td>\n",
       "      <td>&gt; 1 Year</td>\n",
       "      <td>0.55</td>\n",
       "    </tr>\n",
       "  </tbody>\n",
       "</table>\n",
       "<p>5 rows × 21 columns</p>\n",
       "</div>"
      ],
      "text/plain": [
       "   Unnamed: 0       status  loan_amnt       term  annual_inc    dti  \\\n",
       "0           1  Charged Off       2500  60 months       30000   1.00   \n",
       "1           2  Charged Off       5600  60 months       40000   5.55   \n",
       "2           3  Charged Off       5375  60 months       15000  18.08   \n",
       "3           4  Charged Off       9000  36 months       30000  10.08   \n",
       "4           5  Charged Off      10000  36 months      100000   7.06   \n",
       "\n",
       "   payment_inc_ratio  revol_bal  revol_util             purpose  ...  \\\n",
       "0            2.39320       1687         9.4                 car  ...   \n",
       "1            4.57170       5210        32.6      small_business  ...   \n",
       "2            9.71600       9279        36.5               other  ...   \n",
       "3           12.21520      10452        91.7  debt_consolidation  ...   \n",
       "4            3.90888      11997        55.5               other  ...   \n",
       "\n",
       "  delinq_2yrs_zero  pub_rec_zero  open_acc  grade  outcome emp_length  \\\n",
       "0                1             1         3    4.8  default          1   \n",
       "1                1             1        11    1.4  default          5   \n",
       "2                1             1         2    6.0  default          1   \n",
       "3                1             1         4    4.2  default          1   \n",
       "4                1             1        14    5.4  default          4   \n",
       "\n",
       "             purpose_ home_   emp_len_ borrower_score  \n",
       "0      major_purchase  RENT   > 1 Year           0.65  \n",
       "1      small_business   OWN   > 1 Year           0.80  \n",
       "2               other  RENT   > 1 Year           0.60  \n",
       "3  debt_consolidation  RENT   > 1 Year           0.50  \n",
       "4               other  RENT   > 1 Year           0.55  \n",
       "\n",
       "[5 rows x 21 columns]"
      ]
     },
     "execution_count": 98,
     "metadata": {},
     "output_type": "execute_result"
    }
   ],
   "source": [
    "df_loan = pd.read_csv(\"loan_data.csv\")\n",
    "df_loan.head()"
   ]
  },
  {
   "cell_type": "code",
   "execution_count": 99,
   "metadata": {},
   "outputs": [
    {
     "data": {
      "text/html": [
       "<div>\n",
       "<style scoped>\n",
       "    .dataframe tbody tr th:only-of-type {\n",
       "        vertical-align: middle;\n",
       "    }\n",
       "\n",
       "    .dataframe tbody tr th {\n",
       "        vertical-align: top;\n",
       "    }\n",
       "\n",
       "    .dataframe thead th {\n",
       "        text-align: right;\n",
       "    }\n",
       "</style>\n",
       "<table border=\"1\" class=\"dataframe\">\n",
       "  <thead>\n",
       "    <tr style=\"text-align: right;\">\n",
       "      <th></th>\n",
       "      <th>loan_amnt</th>\n",
       "      <th>annual_inc</th>\n",
       "      <th>revol_bal</th>\n",
       "      <th>open_acc</th>\n",
       "      <th>dti</th>\n",
       "      <th>revol_util</th>\n",
       "    </tr>\n",
       "  </thead>\n",
       "  <tbody>\n",
       "    <tr>\n",
       "      <th>0</th>\n",
       "      <td>2500</td>\n",
       "      <td>30000</td>\n",
       "      <td>1687</td>\n",
       "      <td>3</td>\n",
       "      <td>1.00</td>\n",
       "      <td>9.4</td>\n",
       "    </tr>\n",
       "    <tr>\n",
       "      <th>1</th>\n",
       "      <td>5600</td>\n",
       "      <td>40000</td>\n",
       "      <td>5210</td>\n",
       "      <td>11</td>\n",
       "      <td>5.55</td>\n",
       "      <td>32.6</td>\n",
       "    </tr>\n",
       "    <tr>\n",
       "      <th>2</th>\n",
       "      <td>5375</td>\n",
       "      <td>15000</td>\n",
       "      <td>9279</td>\n",
       "      <td>2</td>\n",
       "      <td>18.08</td>\n",
       "      <td>36.5</td>\n",
       "    </tr>\n",
       "    <tr>\n",
       "      <th>3</th>\n",
       "      <td>9000</td>\n",
       "      <td>30000</td>\n",
       "      <td>10452</td>\n",
       "      <td>4</td>\n",
       "      <td>10.08</td>\n",
       "      <td>91.7</td>\n",
       "    </tr>\n",
       "    <tr>\n",
       "      <th>4</th>\n",
       "      <td>10000</td>\n",
       "      <td>100000</td>\n",
       "      <td>11997</td>\n",
       "      <td>14</td>\n",
       "      <td>7.06</td>\n",
       "      <td>55.5</td>\n",
       "    </tr>\n",
       "  </tbody>\n",
       "</table>\n",
       "</div>"
      ],
      "text/plain": [
       "   loan_amnt  annual_inc  revol_bal  open_acc    dti  revol_util\n",
       "0       2500       30000       1687         3   1.00         9.4\n",
       "1       5600       40000       5210        11   5.55        32.6\n",
       "2       5375       15000       9279         2  18.08        36.5\n",
       "3       9000       30000      10452         4  10.08        91.7\n",
       "4      10000      100000      11997        14   7.06        55.5"
      ]
     },
     "execution_count": 99,
     "metadata": {},
     "output_type": "execute_result"
    }
   ],
   "source": [
    "X6 =  df_loan[['loan_amnt', 'annual_inc', 'revol_bal', 'open_acc', 'dti', 'revol_util']]\n",
    "X6.head()"
   ]
  },
  {
   "cell_type": "code",
   "execution_count": 100,
   "metadata": {},
   "outputs": [
    {
     "data": {
      "text/plain": [
       "KMeans(algorithm='auto', copy_x=True, init='k-means++', max_iter=300,\n",
       "       n_clusters=4, n_init=10, n_jobs=None, precompute_distances='auto',\n",
       "       random_state=None, tol=0.0001, verbose=0)"
      ]
     },
     "execution_count": 100,
     "metadata": {},
     "output_type": "execute_result"
    }
   ],
   "source": [
    "km3 = KMeans(n_clusters=4, n_init=10)\n",
    "km3"
   ]
  },
  {
   "cell_type": "code",
   "execution_count": 103,
   "metadata": {},
   "outputs": [
    {
     "data": {
      "text/plain": [
       "(array([32928, 11886,     1,   527], dtype=int64), array([0, 1, 2, 3]))"
      ]
     },
     "execution_count": 103,
     "metadata": {},
     "output_type": "execute_result"
    }
   ],
   "source": [
    "preds = km3.fit_predict(X6.values)\n",
    "labels, counts = np.unique(preds, return_counts=True)\n",
    "counts"
   ]
  },
  {
   "cell_type": "code",
   "execution_count": 108,
   "metadata": {},
   "outputs": [
    {
     "data": {
      "text/html": [
       "<div>\n",
       "<style scoped>\n",
       "    .dataframe tbody tr th:only-of-type {\n",
       "        vertical-align: middle;\n",
       "    }\n",
       "\n",
       "    .dataframe tbody tr th {\n",
       "        vertical-align: top;\n",
       "    }\n",
       "\n",
       "    .dataframe thead th {\n",
       "        text-align: right;\n",
       "    }\n",
       "</style>\n",
       "<table border=\"1\" class=\"dataframe\">\n",
       "  <thead>\n",
       "    <tr style=\"text-align: right;\">\n",
       "      <th></th>\n",
       "      <th>loan_amnt</th>\n",
       "      <th>annual_inc</th>\n",
       "      <th>revol_bal</th>\n",
       "      <th>open_acc</th>\n",
       "      <th>dti</th>\n",
       "      <th>revol_util</th>\n",
       "      <th>size</th>\n",
       "    </tr>\n",
       "  </thead>\n",
       "  <tbody>\n",
       "    <tr>\n",
       "      <th>0</th>\n",
       "      <td>11153.02</td>\n",
       "      <td>49412.50</td>\n",
       "      <td>11076.59</td>\n",
       "      <td>9.85</td>\n",
       "      <td>16.78</td>\n",
       "      <td>55.37</td>\n",
       "      <td>32928.0</td>\n",
       "    </tr>\n",
       "    <tr>\n",
       "      <th>1</th>\n",
       "      <td>18298.81</td>\n",
       "      <td>108609.25</td>\n",
       "      <td>23623.55</td>\n",
       "      <td>11.91</td>\n",
       "      <td>14.66</td>\n",
       "      <td>57.95</td>\n",
       "      <td>11886.0</td>\n",
       "    </tr>\n",
       "    <tr>\n",
       "      <th>2</th>\n",
       "      <td>14825.00</td>\n",
       "      <td>7141778.00</td>\n",
       "      <td>11351.00</td>\n",
       "      <td>17.00</td>\n",
       "      <td>0.25</td>\n",
       "      <td>70.90</td>\n",
       "      <td>1.0</td>\n",
       "    </tr>\n",
       "    <tr>\n",
       "      <th>3</th>\n",
       "      <td>22128.56</td>\n",
       "      <td>317596.59</td>\n",
       "      <td>53245.22</td>\n",
       "      <td>11.95</td>\n",
       "      <td>8.88</td>\n",
       "      <td>55.49</td>\n",
       "      <td>527.0</td>\n",
       "    </tr>\n",
       "  </tbody>\n",
       "</table>\n",
       "</div>"
      ],
      "text/plain": [
       "   loan_amnt  annual_inc  revol_bal  open_acc    dti  revol_util     size\n",
       "0   11153.02    49412.50   11076.59      9.85  16.78       55.37  32928.0\n",
       "1   18298.81   108609.25   23623.55     11.91  14.66       57.95  11886.0\n",
       "2   14825.00  7141778.00   11351.00     17.00   0.25       70.90      1.0\n",
       "3   22128.56   317596.59   53245.22     11.95   8.88       55.49    527.0"
      ]
     },
     "execution_count": 108,
     "metadata": {},
     "output_type": "execute_result"
    }
   ],
   "source": [
    "data = np.hstack((km3.cluster_centers_, counts.reshape(-1, 1))).round(2)\n",
    "pd.DataFrame(data=data, columns=np.append(X6.columns, \"size\"))"
   ]
  },
  {
   "cell_type": "code",
   "execution_count": 112,
   "metadata": {},
   "outputs": [
    {
     "data": {
      "text/plain": [
       "array([[-1.31728848, -0.67945911, -0.65582306, -1.57841004, -1.99264452,\n",
       "        -1.8345186 ],\n",
       "       [-0.93402566, -0.50164467, -0.4803951 ,  0.12496265, -1.3935502 ,\n",
       "        -0.92221014],\n",
       "       [-0.96184312, -0.94618075, -0.27777906, -1.79133162,  0.2562634 ,\n",
       "        -0.76884794],\n",
       "       [-0.51367288, -0.67945911, -0.21936946, -1.36548845, -0.79708926,\n",
       "         1.40181701],\n",
       "       [-0.39003971,  0.56524192, -0.14243612,  0.7637274 , -1.19472988,\n",
       "        -0.02169877]])"
      ]
     },
     "execution_count": 112,
     "metadata": {},
     "output_type": "execute_result"
    }
   ],
   "source": [
    "from sklearn.preprocessing import StandardScaler\n",
    "ss = StandardScaler()\n",
    "X6_tr = ss.fit_transform(X6.values)\n",
    "X6_tr[:5]"
   ]
  },
  {
   "cell_type": "code",
   "execution_count": 115,
   "metadata": {},
   "outputs": [
    {
     "data": {
      "text/html": [
       "<div>\n",
       "<style scoped>\n",
       "    .dataframe tbody tr th:only-of-type {\n",
       "        vertical-align: middle;\n",
       "    }\n",
       "\n",
       "    .dataframe tbody tr th {\n",
       "        vertical-align: top;\n",
       "    }\n",
       "\n",
       "    .dataframe thead th {\n",
       "        text-align: right;\n",
       "    }\n",
       "</style>\n",
       "<table border=\"1\" class=\"dataframe\">\n",
       "  <thead>\n",
       "    <tr style=\"text-align: right;\">\n",
       "      <th></th>\n",
       "      <th>loan_amnt</th>\n",
       "      <th>annual_inc</th>\n",
       "      <th>revol_bal</th>\n",
       "      <th>open_acc</th>\n",
       "      <th>dti</th>\n",
       "      <th>revol_util</th>\n",
       "      <th>size</th>\n",
       "    </tr>\n",
       "  </thead>\n",
       "  <tbody>\n",
       "    <tr>\n",
       "      <th>0</th>\n",
       "      <td>-0.11</td>\n",
       "      <td>-0.17</td>\n",
       "      <td>0.04</td>\n",
       "      <td>0.86</td>\n",
       "      <td>0.94</td>\n",
       "      <td>-0.03</td>\n",
       "      <td>11757.0</td>\n",
       "    </tr>\n",
       "    <tr>\n",
       "      <th>1</th>\n",
       "      <td>-0.41</td>\n",
       "      <td>-0.11</td>\n",
       "      <td>-0.44</td>\n",
       "      <td>-0.37</td>\n",
       "      <td>-0.81</td>\n",
       "      <td>-1.13</td>\n",
       "      <td>11462.0</td>\n",
       "    </tr>\n",
       "    <tr>\n",
       "      <th>2</th>\n",
       "      <td>1.53</td>\n",
       "      <td>0.89</td>\n",
       "      <td>0.90</td>\n",
       "      <td>0.42</td>\n",
       "      <td>-0.02</td>\n",
       "      <td>0.29</td>\n",
       "      <td>7453.0</td>\n",
       "    </tr>\n",
       "    <tr>\n",
       "      <th>3</th>\n",
       "      <td>-0.38</td>\n",
       "      <td>-0.22</td>\n",
       "      <td>-0.15</td>\n",
       "      <td>-0.62</td>\n",
       "      <td>-0.11</td>\n",
       "      <td>0.76</td>\n",
       "      <td>14670.0</td>\n",
       "    </tr>\n",
       "  </tbody>\n",
       "</table>\n",
       "</div>"
      ],
      "text/plain": [
       "   loan_amnt  annual_inc  revol_bal  open_acc   dti  revol_util     size\n",
       "0      -0.11       -0.17       0.04      0.86  0.94       -0.03  11757.0\n",
       "1      -0.41       -0.11      -0.44     -0.37 -0.81       -1.13  11462.0\n",
       "2       1.53        0.89       0.90      0.42 -0.02        0.29   7453.0\n",
       "3      -0.38       -0.22      -0.15     -0.62 -0.11        0.76  14670.0"
      ]
     },
     "execution_count": 115,
     "metadata": {},
     "output_type": "execute_result"
    }
   ],
   "source": [
    "km4 = KMeans(n_clusters=4, n_init=10)\n",
    "preds = km4.fit_predict(X6_tr)\n",
    "_, counts = np.unique(preds, return_counts=True)\n",
    "data = np.hstack((km4.cluster_centers_, counts.reshape(-1, 1))).round(2)\n",
    "pd.DataFrame(data=data, columns=np.append(X6.columns, \"size\"))"
   ]
  },
  {
   "cell_type": "code",
   "execution_count": 118,
   "metadata": {},
   "outputs": [
    {
     "data": {
      "text/html": [
       "<div>\n",
       "<style scoped>\n",
       "    .dataframe tbody tr th:only-of-type {\n",
       "        vertical-align: middle;\n",
       "    }\n",
       "\n",
       "    .dataframe tbody tr th {\n",
       "        vertical-align: top;\n",
       "    }\n",
       "\n",
       "    .dataframe thead th {\n",
       "        text-align: right;\n",
       "    }\n",
       "</style>\n",
       "<table border=\"1\" class=\"dataframe\">\n",
       "  <thead>\n",
       "    <tr style=\"text-align: right;\">\n",
       "      <th></th>\n",
       "      <th>AMZN</th>\n",
       "      <th>GOOGL</th>\n",
       "      <th>AAPL</th>\n",
       "      <th>MSFT</th>\n",
       "      <th>CSCO</th>\n",
       "      <th>INTC</th>\n",
       "      <th>CVX</th>\n",
       "      <th>XOM</th>\n",
       "      <th>SLB</th>\n",
       "      <th>COP</th>\n",
       "      <th>JPM</th>\n",
       "      <th>WFC</th>\n",
       "      <th>USB</th>\n",
       "      <th>AXP</th>\n",
       "      <th>WMT</th>\n",
       "      <th>TGT</th>\n",
       "      <th>HD</th>\n",
       "      <th>COST</th>\n",
       "    </tr>\n",
       "  </thead>\n",
       "  <tbody>\n",
       "    <tr>\n",
       "      <th>2005-01-03</th>\n",
       "      <td>-0.430001</td>\n",
       "      <td>2.657662</td>\n",
       "      <td>-0.099973</td>\n",
       "      <td>-0.047835</td>\n",
       "      <td>-0.089263</td>\n",
       "      <td>-0.423310</td>\n",
       "      <td>-1.103047</td>\n",
       "      <td>-0.728723</td>\n",
       "      <td>-1.110633</td>\n",
       "      <td>-0.696598</td>\n",
       "      <td>-0.248896</td>\n",
       "      <td>-0.120469</td>\n",
       "      <td>-0.110006</td>\n",
       "      <td>-0.513656</td>\n",
       "      <td>-0.320960</td>\n",
       "      <td>-0.724329</td>\n",
       "      <td>0.084594</td>\n",
       "      <td>-0.273346</td>\n",
       "    </tr>\n",
       "    <tr>\n",
       "      <th>2005-01-04</th>\n",
       "      <td>-0.529999</td>\n",
       "      <td>-3.453445</td>\n",
       "      <td>0.010060</td>\n",
       "      <td>-0.023919</td>\n",
       "      <td>-0.731955</td>\n",
       "      <td>-0.430737</td>\n",
       "      <td>-0.304046</td>\n",
       "      <td>-0.462308</td>\n",
       "      <td>-0.387634</td>\n",
       "      <td>-0.205508</td>\n",
       "      <td>-0.433680</td>\n",
       "      <td>0.003764</td>\n",
       "      <td>-0.110004</td>\n",
       "      <td>-0.625311</td>\n",
       "      <td>-0.441318</td>\n",
       "      <td>-0.757632</td>\n",
       "      <td>-0.530658</td>\n",
       "      <td>-0.924551</td>\n",
       "    </tr>\n",
       "    <tr>\n",
       "      <th>2005-01-05</th>\n",
       "      <td>0.200000</td>\n",
       "      <td>0.030030</td>\n",
       "      <td>0.002677</td>\n",
       "      <td>-0.047835</td>\n",
       "      <td>0.089264</td>\n",
       "      <td>-0.059412</td>\n",
       "      <td>0.148490</td>\n",
       "      <td>-0.266415</td>\n",
       "      <td>0.087109</td>\n",
       "      <td>0.208174</td>\n",
       "      <td>-0.083690</td>\n",
       "      <td>-0.018824</td>\n",
       "      <td>0.080668</td>\n",
       "      <td>-0.455095</td>\n",
       "      <td>-0.168503</td>\n",
       "      <td>-0.124885</td>\n",
       "      <td>-0.261482</td>\n",
       "      <td>0.032159</td>\n",
       "    </tr>\n",
       "    <tr>\n",
       "      <th>2005-01-06</th>\n",
       "      <td>-0.760002</td>\n",
       "      <td>-3.268272</td>\n",
       "      <td>-0.008059</td>\n",
       "      <td>-0.079726</td>\n",
       "      <td>0.160673</td>\n",
       "      <td>-0.089119</td>\n",
       "      <td>0.657588</td>\n",
       "      <td>0.642530</td>\n",
       "      <td>0.587981</td>\n",
       "      <td>0.325615</td>\n",
       "      <td>-0.045651</td>\n",
       "      <td>0.056471</td>\n",
       "      <td>-0.029335</td>\n",
       "      <td>-0.134286</td>\n",
       "      <td>0.120357</td>\n",
       "      <td>-1.423682</td>\n",
       "      <td>-0.484512</td>\n",
       "      <td>-0.771800</td>\n",
       "    </tr>\n",
       "    <tr>\n",
       "      <th>2005-01-07</th>\n",
       "      <td>0.939999</td>\n",
       "      <td>1.606598</td>\n",
       "      <td>0.285154</td>\n",
       "      <td>-0.119589</td>\n",
       "      <td>-0.178526</td>\n",
       "      <td>0.051985</td>\n",
       "      <td>-0.410107</td>\n",
       "      <td>-0.258578</td>\n",
       "      <td>-0.574915</td>\n",
       "      <td>-0.144125</td>\n",
       "      <td>-0.220642</td>\n",
       "      <td>-0.064000</td>\n",
       "      <td>-0.256675</td>\n",
       "      <td>-0.387940</td>\n",
       "      <td>-0.048141</td>\n",
       "      <td>0.349678</td>\n",
       "      <td>-0.161506</td>\n",
       "      <td>-0.104512</td>\n",
       "    </tr>\n",
       "  </tbody>\n",
       "</table>\n",
       "</div>"
      ],
      "text/plain": [
       "                AMZN     GOOGL      AAPL      MSFT      CSCO      INTC  \\\n",
       "2005-01-03 -0.430001  2.657662 -0.099973 -0.047835 -0.089263 -0.423310   \n",
       "2005-01-04 -0.529999 -3.453445  0.010060 -0.023919 -0.731955 -0.430737   \n",
       "2005-01-05  0.200000  0.030030  0.002677 -0.047835  0.089264 -0.059412   \n",
       "2005-01-06 -0.760002 -3.268272 -0.008059 -0.079726  0.160673 -0.089119   \n",
       "2005-01-07  0.939999  1.606598  0.285154 -0.119589 -0.178526  0.051985   \n",
       "\n",
       "                 CVX       XOM       SLB       COP       JPM       WFC  \\\n",
       "2005-01-03 -1.103047 -0.728723 -1.110633 -0.696598 -0.248896 -0.120469   \n",
       "2005-01-04 -0.304046 -0.462308 -0.387634 -0.205508 -0.433680  0.003764   \n",
       "2005-01-05  0.148490 -0.266415  0.087109  0.208174 -0.083690 -0.018824   \n",
       "2005-01-06  0.657588  0.642530  0.587981  0.325615 -0.045651  0.056471   \n",
       "2005-01-07 -0.410107 -0.258578 -0.574915 -0.144125 -0.220642 -0.064000   \n",
       "\n",
       "                 USB       AXP       WMT       TGT        HD      COST  \n",
       "2005-01-03 -0.110006 -0.513656 -0.320960 -0.724329  0.084594 -0.273346  \n",
       "2005-01-04 -0.110004 -0.625311 -0.441318 -0.757632 -0.530658 -0.924551  \n",
       "2005-01-05  0.080668 -0.455095 -0.168503 -0.124885 -0.261482  0.032159  \n",
       "2005-01-06 -0.029335 -0.134286  0.120357 -1.423682 -0.484512 -0.771800  \n",
       "2005-01-07 -0.256675 -0.387940 -0.048141  0.349678 -0.161506 -0.104512  "
      ]
     },
     "execution_count": 118,
     "metadata": {},
     "output_type": "execute_result"
    }
   ],
   "source": [
    "X7 = df_sp500_data[['AMZN', 'GOOGL', 'AAPL', 'MSFT', 'CSCO', 'INTC', 'CVX', 'XOM',\\\n",
    "'SLB', 'COP', 'JPM', 'WFC', 'USB', 'AXP', 'WMT', 'TGT', 'HD', 'COST']]\n",
    "X7 = X7['2005-01-01':]\n",
    "X7.head()"
   ]
  },
  {
   "cell_type": "code",
   "execution_count": 123,
   "metadata": {},
   "outputs": [
    {
     "data": {
      "text/plain": [
       "PCA(copy=True, iterated_power='auto', n_components=2, random_state=None,\n",
       "    svd_solver='auto', tol=0.0, whiten=False)"
      ]
     },
     "execution_count": 123,
     "metadata": {},
     "output_type": "execute_result"
    }
   ],
   "source": [
    "from sklearn.decomposition import PCA\n",
    "pca2 = PCA(n_components=2)\n",
    "pca2"
   ]
  },
  {
   "cell_type": "code",
   "execution_count": 127,
   "metadata": {},
   "outputs": [
    {
     "data": {
      "text/plain": [
       "PCA(copy=True, iterated_power='auto', n_components=2, random_state=None,\n",
       "    svd_solver='auto', tol=0.0, whiten=False)"
      ]
     },
     "execution_count": 127,
     "metadata": {},
     "output_type": "execute_result"
    }
   ],
   "source": [
    "pca2.fit(X7.values)"
   ]
  },
  {
   "cell_type": "code",
   "execution_count": 128,
   "metadata": {
    "scrolled": false
   },
   "outputs": [
    {
     "data": {
      "text/html": [
       "<div>\n",
       "<style scoped>\n",
       "    .dataframe tbody tr th:only-of-type {\n",
       "        vertical-align: middle;\n",
       "    }\n",
       "\n",
       "    .dataframe tbody tr th {\n",
       "        vertical-align: top;\n",
       "    }\n",
       "\n",
       "    .dataframe thead th {\n",
       "        text-align: right;\n",
       "    }\n",
       "</style>\n",
       "<table border=\"1\" class=\"dataframe\">\n",
       "  <thead>\n",
       "    <tr style=\"text-align: right;\">\n",
       "      <th></th>\n",
       "      <th>Comp.1</th>\n",
       "      <th>Comp.2</th>\n",
       "    </tr>\n",
       "  </thead>\n",
       "  <tbody>\n",
       "    <tr>\n",
       "      <th>AMZN</th>\n",
       "      <td>-2.106495</td>\n",
       "      <td>-2.132959</td>\n",
       "    </tr>\n",
       "    <tr>\n",
       "      <th>GOOGL</th>\n",
       "      <td>-4.060730</td>\n",
       "      <td>1.166030</td>\n",
       "    </tr>\n",
       "    <tr>\n",
       "      <th>AAPL</th>\n",
       "      <td>-0.339270</td>\n",
       "      <td>-0.050758</td>\n",
       "    </tr>\n",
       "    <tr>\n",
       "      <th>MSFT</th>\n",
       "      <td>-0.170526</td>\n",
       "      <td>-0.015138</td>\n",
       "    </tr>\n",
       "    <tr>\n",
       "      <th>CSCO</th>\n",
       "      <td>-0.138332</td>\n",
       "      <td>-0.007431</td>\n",
       "    </tr>\n",
       "    <tr>\n",
       "      <th>INTC</th>\n",
       "      <td>-0.126307</td>\n",
       "      <td>-0.014809</td>\n",
       "    </tr>\n",
       "    <tr>\n",
       "      <th>CVX</th>\n",
       "      <td>-0.424153</td>\n",
       "      <td>-0.091307</td>\n",
       "    </tr>\n",
       "    <tr>\n",
       "      <th>XOM</th>\n",
       "      <td>-0.380518</td>\n",
       "      <td>-0.050049</td>\n",
       "    </tr>\n",
       "    <tr>\n",
       "      <th>SLB</th>\n",
       "      <td>-0.522058</td>\n",
       "      <td>-0.074070</td>\n",
       "    </tr>\n",
       "    <tr>\n",
       "      <th>COP</th>\n",
       "      <td>-0.273484</td>\n",
       "      <td>-0.058847</td>\n",
       "    </tr>\n",
       "    <tr>\n",
       "      <th>JPM</th>\n",
       "      <td>-0.337380</td>\n",
       "      <td>-0.022556</td>\n",
       "    </tr>\n",
       "    <tr>\n",
       "      <th>WFC</th>\n",
       "      <td>-0.252121</td>\n",
       "      <td>-0.020976</td>\n",
       "    </tr>\n",
       "    <tr>\n",
       "      <th>USB</th>\n",
       "      <td>-0.197372</td>\n",
       "      <td>-0.014523</td>\n",
       "    </tr>\n",
       "    <tr>\n",
       "      <th>AXP</th>\n",
       "      <td>-0.373748</td>\n",
       "      <td>-0.058628</td>\n",
       "    </tr>\n",
       "    <tr>\n",
       "      <th>WMT</th>\n",
       "      <td>-0.191103</td>\n",
       "      <td>-0.017425</td>\n",
       "    </tr>\n",
       "    <tr>\n",
       "      <th>TGT</th>\n",
       "      <td>-0.301529</td>\n",
       "      <td>-0.060177</td>\n",
       "    </tr>\n",
       "    <tr>\n",
       "      <th>HD</th>\n",
       "      <td>-0.243520</td>\n",
       "      <td>-0.080331</td>\n",
       "    </tr>\n",
       "    <tr>\n",
       "      <th>COST</th>\n",
       "      <td>-0.338206</td>\n",
       "      <td>-0.082537</td>\n",
       "    </tr>\n",
       "  </tbody>\n",
       "</table>\n",
       "</div>"
      ],
      "text/plain": [
       "         Comp.1    Comp.2\n",
       "AMZN  -2.106495 -2.132959\n",
       "GOOGL -4.060730  1.166030\n",
       "AAPL  -0.339270 -0.050758\n",
       "MSFT  -0.170526 -0.015138\n",
       "CSCO  -0.138332 -0.007431\n",
       "INTC  -0.126307 -0.014809\n",
       "CVX   -0.424153 -0.091307\n",
       "XOM   -0.380518 -0.050049\n",
       "SLB   -0.522058 -0.074070\n",
       "COP   -0.273484 -0.058847\n",
       "JPM   -0.337380 -0.022556\n",
       "WFC   -0.252121 -0.020976\n",
       "USB   -0.197372 -0.014523\n",
       "AXP   -0.373748 -0.058628\n",
       "WMT   -0.191103 -0.017425\n",
       "TGT   -0.301529 -0.060177\n",
       "HD    -0.243520 -0.080331\n",
       "COST  -0.338206 -0.082537"
      ]
     },
     "execution_count": 128,
     "metadata": {},
     "output_type": "execute_result"
    }
   ],
   "source": [
    "loadings = pca2.components_.T * np.sqrt(pca2.explained_variance_)\n",
    "pd.DataFrame(loadings, index=X7.columns, columns=[\"Comp.1\", \"Comp.2\"])"
   ]
  },
  {
   "cell_type": "code",
   "execution_count": 129,
   "metadata": {},
   "outputs": [
    {
     "data": {
      "text/plain": [
       "Text(0.5, 1.0, 'PCA Scree Plot')"
      ]
     },
     "execution_count": 129,
     "metadata": {},
     "output_type": "execute_result"
    },
    {
     "data": {
      "image/png": "[encoded data removed]",
      "text/plain": [
       "<Figure size 720x504 with 1 Axes>"
      ]
     },
     "metadata": {
      "needs_background": "light"
     },
     "output_type": "display_data"
    }
   ],
   "source": [
    "pct_variance2 = np.round(pca2.explained_variance_ratio_* 100, decimals =2)\n",
    "components = [\"comp.\"+str(x) for x in range(1, 11)]\n",
    "\n",
    "plt.figure(figsize=(10, 7))\n",
    "plt.bar(x= components, height=pct_variance)\n",
    "plt.ylabel('Percentate of Variance Explained')\n",
    "plt.xlabel('Principal Component')\n",
    "plt.title('PCA Scree Plot')"
   ]
  },
  {
   "cell_type": "code",
   "execution_count": 134,
   "metadata": {},
   "outputs": [
    {
     "data": {
      "text/html": [
       "<div>\n",
       "<style scoped>\n",
       "    .dataframe tbody tr th:only-of-type {\n",
       "        vertical-align: middle;\n",
       "    }\n",
       "\n",
       "    .dataframe tbody tr th {\n",
       "        vertical-align: top;\n",
       "    }\n",
       "\n",
       "    .dataframe thead th {\n",
       "        text-align: right;\n",
       "    }\n",
       "</style>\n",
       "<table border=\"1\" class=\"dataframe\">\n",
       "  <thead>\n",
       "    <tr style=\"text-align: right;\">\n",
       "      <th></th>\n",
       "      <th>dti</th>\n",
       "      <th>payment_inc_ratio</th>\n",
       "      <th>home_</th>\n",
       "      <th>purpose</th>\n",
       "    </tr>\n",
       "  </thead>\n",
       "  <tbody>\n",
       "    <tr>\n",
       "      <th>0</th>\n",
       "      <td>1.00</td>\n",
       "      <td>2.39320</td>\n",
       "      <td>2</td>\n",
       "      <td>0</td>\n",
       "    </tr>\n",
       "    <tr>\n",
       "      <th>1</th>\n",
       "      <td>5.55</td>\n",
       "      <td>4.57170</td>\n",
       "      <td>1</td>\n",
       "      <td>9</td>\n",
       "    </tr>\n",
       "    <tr>\n",
       "      <th>2</th>\n",
       "      <td>18.08</td>\n",
       "      <td>9.71600</td>\n",
       "      <td>2</td>\n",
       "      <td>8</td>\n",
       "    </tr>\n",
       "    <tr>\n",
       "      <th>3</th>\n",
       "      <td>10.08</td>\n",
       "      <td>12.21520</td>\n",
       "      <td>2</td>\n",
       "      <td>2</td>\n",
       "    </tr>\n",
       "    <tr>\n",
       "      <th>4</th>\n",
       "      <td>7.06</td>\n",
       "      <td>3.90888</td>\n",
       "      <td>2</td>\n",
       "      <td>8</td>\n",
       "    </tr>\n",
       "  </tbody>\n",
       "</table>\n",
       "</div>"
      ],
      "text/plain": [
       "     dti  payment_inc_ratio  home_  purpose\n",
       "0   1.00            2.39320      2        0\n",
       "1   5.55            4.57170      1        9\n",
       "2  18.08            9.71600      2        8\n",
       "3  10.08           12.21520      2        2\n",
       "4   7.06            3.90888      2        8"
      ]
     },
     "execution_count": 134,
     "metadata": {},
     "output_type": "execute_result"
    }
   ],
   "source": [
    "from sklearn.preprocessing import LabelEncoder\n",
    "le  = LabelEncoder()\n",
    "X8 = df_loan[['dti', 'payment_inc_ratio', 'home_', 'purpose']]\n",
    "for col in X8.columns:\n",
    "    try:\n",
    "        X8[col] = X8[col].astype(float)\n",
    "    except:\n",
    "        X8[col] = le.fit_transform(X8[col])\n",
    "X8.head()"
   ]
  },
  {
   "cell_type": "markdown",
   "metadata": {},
   "source": [
    "#CELL TAKES UP LOT OF MEMORY\n",
    "\n",
    "linked = shc.linkage(X8, method='complete')\n",
    "\n",
    "labelList = X8.columns\n",
    "\n",
    "plt.figure(figsize=(10, 7))\n",
    "dendo = shc.dendrogram(linked, labels=labelList)"
   ]
  },
  {
   "cell_type": "code",
   "execution_count": null,
   "metadata": {},
   "outputs": [],
   "source": []
  }
 ],
 "metadata": {
  "kernelspec": {
   "display_name": "Python 3",
   "language": "python",
   "name": "python3"
  },
  "language_info": {
   "codemirror_mode": {
    "name": "ipython",
    "version": 3
   },
   "file_extension": ".py",
   "mimetype": "text/x-python",
   "name": "python",
   "nbconvert_exporter": "python",
   "pygments_lexer": "ipython3",
   "version": "3.6.0"
  }
 },
 "nbformat": 4,
 "nbformat_minor": 2
}
